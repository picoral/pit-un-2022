{
 "cells": [
  {
   "cell_type": "markdown",
   "metadata": {},
   "source": [
    "# Modeling Google Mobility Data due to COVID-19 in 2020\n",
    "\n",
    "This tutorial is based on the version in R by [Adriana Picoral](https://github.com/picoral), which you can find [here](http://htmlpreview.github.io/?https://github.com/picoral/pit-un-2022/blob/master/R%20tutorials/google-mobility.html).\n",
    "\n",
    "For this case study we will be using Google’s data on [COVID-19 Community Mobility](https://www.google.com/covid19/mobility/index.html?hl=en). You can both download and access more details about this data at the previous link. In this tutorial, we will focus on data from the United States in 2020. The website also includes data from 2019 and 2021."
   ]
  },
  {
   "cell_type": "markdown",
   "metadata": {},
   "source": [
    "First, let's import the packages we need. We'll also silence warnings, as the warnings for these plots are extensive given the amount of data and color palettes we're using. In order to use this tutorial you will need to make sure all of these packages are installed - if you have the Anaconda version of Python, you will specifically need to install [`seaborn`](https://seaborn.pydata.org/installing.html) and [`plotly`](https://plotly.com/python/getting-started/)."
   ]
  },
  {
   "cell_type": "code",
   "execution_count": 1,
   "metadata": {},
   "outputs": [],
   "source": [
    "import pandas as pd, plotly.express as px, statsmodels.api as sm, matplotlib.pyplot as plt, seaborn as sns\n",
    "import warnings\n",
    "warnings.filterwarnings('ignore')"
   ]
  },
  {
   "cell_type": "markdown",
   "metadata": {},
   "source": [
    "### Dealing with data\n",
    "\n",
    "First, we can import the csv for the data we're interested in from the regional Google Mobility data zip file. The one used here is the 2020 US Region report. Once we've read in the data, we can take a look at it to get a better feel for the variables and data formats we have at our disposal."
   ]
  },
  {
   "cell_type": "code",
   "execution_count": 2,
   "metadata": {},
   "outputs": [],
   "source": [
    "us_mobil_2020 = pd.read_csv('data/2020_US_Region_Mobility_Report.csv')"
   ]
  },
  {
   "cell_type": "code",
   "execution_count": 3,
   "metadata": {},
   "outputs": [
    {
     "data": {
      "text/html": [
       "<div>\n",
       "<style scoped>\n",
       "    .dataframe tbody tr th:only-of-type {\n",
       "        vertical-align: middle;\n",
       "    }\n",
       "\n",
       "    .dataframe tbody tr th {\n",
       "        vertical-align: top;\n",
       "    }\n",
       "\n",
       "    .dataframe thead th {\n",
       "        text-align: right;\n",
       "    }\n",
       "</style>\n",
       "<table border=\"1\" class=\"dataframe\">\n",
       "  <thead>\n",
       "    <tr style=\"text-align: right;\">\n",
       "      <th></th>\n",
       "      <th>country_region_code</th>\n",
       "      <th>country_region</th>\n",
       "      <th>sub_region_1</th>\n",
       "      <th>sub_region_2</th>\n",
       "      <th>metro_area</th>\n",
       "      <th>iso_3166_2_code</th>\n",
       "      <th>census_fips_code</th>\n",
       "      <th>place_id</th>\n",
       "      <th>date</th>\n",
       "      <th>retail_and_recreation_percent_change_from_baseline</th>\n",
       "      <th>grocery_and_pharmacy_percent_change_from_baseline</th>\n",
       "      <th>parks_percent_change_from_baseline</th>\n",
       "      <th>transit_stations_percent_change_from_baseline</th>\n",
       "      <th>workplaces_percent_change_from_baseline</th>\n",
       "      <th>residential_percent_change_from_baseline</th>\n",
       "    </tr>\n",
       "  </thead>\n",
       "  <tbody>\n",
       "    <tr>\n",
       "      <th>0</th>\n",
       "      <td>US</td>\n",
       "      <td>United States</td>\n",
       "      <td>NaN</td>\n",
       "      <td>NaN</td>\n",
       "      <td>NaN</td>\n",
       "      <td>NaN</td>\n",
       "      <td>NaN</td>\n",
       "      <td>ChIJCzYy5IS16lQRQrfeQ5K5Oxw</td>\n",
       "      <td>2020-02-15</td>\n",
       "      <td>6.0</td>\n",
       "      <td>2.0</td>\n",
       "      <td>15.0</td>\n",
       "      <td>3.0</td>\n",
       "      <td>2.0</td>\n",
       "      <td>-1.0</td>\n",
       "    </tr>\n",
       "    <tr>\n",
       "      <th>1</th>\n",
       "      <td>US</td>\n",
       "      <td>United States</td>\n",
       "      <td>NaN</td>\n",
       "      <td>NaN</td>\n",
       "      <td>NaN</td>\n",
       "      <td>NaN</td>\n",
       "      <td>NaN</td>\n",
       "      <td>ChIJCzYy5IS16lQRQrfeQ5K5Oxw</td>\n",
       "      <td>2020-02-16</td>\n",
       "      <td>7.0</td>\n",
       "      <td>1.0</td>\n",
       "      <td>16.0</td>\n",
       "      <td>2.0</td>\n",
       "      <td>0.0</td>\n",
       "      <td>-1.0</td>\n",
       "    </tr>\n",
       "    <tr>\n",
       "      <th>2</th>\n",
       "      <td>US</td>\n",
       "      <td>United States</td>\n",
       "      <td>NaN</td>\n",
       "      <td>NaN</td>\n",
       "      <td>NaN</td>\n",
       "      <td>NaN</td>\n",
       "      <td>NaN</td>\n",
       "      <td>ChIJCzYy5IS16lQRQrfeQ5K5Oxw</td>\n",
       "      <td>2020-02-17</td>\n",
       "      <td>6.0</td>\n",
       "      <td>0.0</td>\n",
       "      <td>28.0</td>\n",
       "      <td>-9.0</td>\n",
       "      <td>-24.0</td>\n",
       "      <td>5.0</td>\n",
       "    </tr>\n",
       "    <tr>\n",
       "      <th>3</th>\n",
       "      <td>US</td>\n",
       "      <td>United States</td>\n",
       "      <td>NaN</td>\n",
       "      <td>NaN</td>\n",
       "      <td>NaN</td>\n",
       "      <td>NaN</td>\n",
       "      <td>NaN</td>\n",
       "      <td>ChIJCzYy5IS16lQRQrfeQ5K5Oxw</td>\n",
       "      <td>2020-02-18</td>\n",
       "      <td>0.0</td>\n",
       "      <td>-1.0</td>\n",
       "      <td>6.0</td>\n",
       "      <td>1.0</td>\n",
       "      <td>0.0</td>\n",
       "      <td>1.0</td>\n",
       "    </tr>\n",
       "    <tr>\n",
       "      <th>4</th>\n",
       "      <td>US</td>\n",
       "      <td>United States</td>\n",
       "      <td>NaN</td>\n",
       "      <td>NaN</td>\n",
       "      <td>NaN</td>\n",
       "      <td>NaN</td>\n",
       "      <td>NaN</td>\n",
       "      <td>ChIJCzYy5IS16lQRQrfeQ5K5Oxw</td>\n",
       "      <td>2020-02-19</td>\n",
       "      <td>2.0</td>\n",
       "      <td>0.0</td>\n",
       "      <td>8.0</td>\n",
       "      <td>1.0</td>\n",
       "      <td>1.0</td>\n",
       "      <td>0.0</td>\n",
       "    </tr>\n",
       "  </tbody>\n",
       "</table>\n",
       "</div>"
      ],
      "text/plain": [
       "  country_region_code country_region sub_region_1 sub_region_2  metro_area  \\\n",
       "0                  US  United States          NaN          NaN         NaN   \n",
       "1                  US  United States          NaN          NaN         NaN   \n",
       "2                  US  United States          NaN          NaN         NaN   \n",
       "3                  US  United States          NaN          NaN         NaN   \n",
       "4                  US  United States          NaN          NaN         NaN   \n",
       "\n",
       "  iso_3166_2_code  census_fips_code                     place_id        date  \\\n",
       "0             NaN               NaN  ChIJCzYy5IS16lQRQrfeQ5K5Oxw  2020-02-15   \n",
       "1             NaN               NaN  ChIJCzYy5IS16lQRQrfeQ5K5Oxw  2020-02-16   \n",
       "2             NaN               NaN  ChIJCzYy5IS16lQRQrfeQ5K5Oxw  2020-02-17   \n",
       "3             NaN               NaN  ChIJCzYy5IS16lQRQrfeQ5K5Oxw  2020-02-18   \n",
       "4             NaN               NaN  ChIJCzYy5IS16lQRQrfeQ5K5Oxw  2020-02-19   \n",
       "\n",
       "   retail_and_recreation_percent_change_from_baseline  \\\n",
       "0                                                6.0    \n",
       "1                                                7.0    \n",
       "2                                                6.0    \n",
       "3                                                0.0    \n",
       "4                                                2.0    \n",
       "\n",
       "   grocery_and_pharmacy_percent_change_from_baseline  \\\n",
       "0                                                2.0   \n",
       "1                                                1.0   \n",
       "2                                                0.0   \n",
       "3                                               -1.0   \n",
       "4                                                0.0   \n",
       "\n",
       "   parks_percent_change_from_baseline  \\\n",
       "0                                15.0   \n",
       "1                                16.0   \n",
       "2                                28.0   \n",
       "3                                 6.0   \n",
       "4                                 8.0   \n",
       "\n",
       "   transit_stations_percent_change_from_baseline  \\\n",
       "0                                            3.0   \n",
       "1                                            2.0   \n",
       "2                                           -9.0   \n",
       "3                                            1.0   \n",
       "4                                            1.0   \n",
       "\n",
       "   workplaces_percent_change_from_baseline  \\\n",
       "0                                      2.0   \n",
       "1                                      0.0   \n",
       "2                                    -24.0   \n",
       "3                                      0.0   \n",
       "4                                      1.0   \n",
       "\n",
       "   residential_percent_change_from_baseline  \n",
       "0                                      -1.0  \n",
       "1                                      -1.0  \n",
       "2                                       5.0  \n",
       "3                                       1.0  \n",
       "4                                       0.0  "
      ]
     },
     "execution_count": 3,
     "metadata": {},
     "output_type": "execute_result"
    }
   ],
   "source": [
    "us_mobil_2020.head()"
   ]
  },
  {
   "cell_type": "markdown",
   "metadata": {},
   "source": [
    "After taking a look at the dataframe above, we notice there's a lot of region information at different levels of granularity. For this analysis, we'll use `sub_region_1` because we're going to complete our analysis at the state regional level. Additionally, we'll want to extract the place mobility information that allows us to assess change from baseline - for example, `retail_and_recreation_percent_change_from_baseline` (what a (descriptive) mouthful)."
   ]
  },
  {
   "cell_type": "code",
   "execution_count": 4,
   "metadata": {},
   "outputs": [
    {
     "data": {
      "text/html": [
       "<div>\n",
       "<style scoped>\n",
       "    .dataframe tbody tr th:only-of-type {\n",
       "        vertical-align: middle;\n",
       "    }\n",
       "\n",
       "    .dataframe tbody tr th {\n",
       "        vertical-align: top;\n",
       "    }\n",
       "\n",
       "    .dataframe thead th {\n",
       "        text-align: right;\n",
       "    }\n",
       "</style>\n",
       "<table border=\"1\" class=\"dataframe\">\n",
       "  <thead>\n",
       "    <tr style=\"text-align: right;\">\n",
       "      <th></th>\n",
       "      <th>sub_region_1</th>\n",
       "      <th>place_id</th>\n",
       "      <th>retail_and_recreation_percent_change_from_baseline</th>\n",
       "      <th>grocery_and_pharmacy_percent_change_from_baseline</th>\n",
       "      <th>parks_percent_change_from_baseline</th>\n",
       "      <th>transit_stations_percent_change_from_baseline</th>\n",
       "      <th>workplaces_percent_change_from_baseline</th>\n",
       "      <th>residential_percent_change_from_baseline</th>\n",
       "    </tr>\n",
       "  </thead>\n",
       "  <tbody>\n",
       "    <tr>\n",
       "      <th>0</th>\n",
       "      <td>NaN</td>\n",
       "      <td>ChIJCzYy5IS16lQRQrfeQ5K5Oxw</td>\n",
       "      <td>6.0</td>\n",
       "      <td>2.0</td>\n",
       "      <td>15.0</td>\n",
       "      <td>3.0</td>\n",
       "      <td>2.0</td>\n",
       "      <td>-1.0</td>\n",
       "    </tr>\n",
       "    <tr>\n",
       "      <th>1</th>\n",
       "      <td>NaN</td>\n",
       "      <td>ChIJCzYy5IS16lQRQrfeQ5K5Oxw</td>\n",
       "      <td>7.0</td>\n",
       "      <td>1.0</td>\n",
       "      <td>16.0</td>\n",
       "      <td>2.0</td>\n",
       "      <td>0.0</td>\n",
       "      <td>-1.0</td>\n",
       "    </tr>\n",
       "    <tr>\n",
       "      <th>2</th>\n",
       "      <td>NaN</td>\n",
       "      <td>ChIJCzYy5IS16lQRQrfeQ5K5Oxw</td>\n",
       "      <td>6.0</td>\n",
       "      <td>0.0</td>\n",
       "      <td>28.0</td>\n",
       "      <td>-9.0</td>\n",
       "      <td>-24.0</td>\n",
       "      <td>5.0</td>\n",
       "    </tr>\n",
       "    <tr>\n",
       "      <th>3</th>\n",
       "      <td>NaN</td>\n",
       "      <td>ChIJCzYy5IS16lQRQrfeQ5K5Oxw</td>\n",
       "      <td>0.0</td>\n",
       "      <td>-1.0</td>\n",
       "      <td>6.0</td>\n",
       "      <td>1.0</td>\n",
       "      <td>0.0</td>\n",
       "      <td>1.0</td>\n",
       "    </tr>\n",
       "    <tr>\n",
       "      <th>4</th>\n",
       "      <td>NaN</td>\n",
       "      <td>ChIJCzYy5IS16lQRQrfeQ5K5Oxw</td>\n",
       "      <td>2.0</td>\n",
       "      <td>0.0</td>\n",
       "      <td>8.0</td>\n",
       "      <td>1.0</td>\n",
       "      <td>1.0</td>\n",
       "      <td>0.0</td>\n",
       "    </tr>\n",
       "  </tbody>\n",
       "</table>\n",
       "</div>"
      ],
      "text/plain": [
       "  sub_region_1                     place_id  \\\n",
       "0          NaN  ChIJCzYy5IS16lQRQrfeQ5K5Oxw   \n",
       "1          NaN  ChIJCzYy5IS16lQRQrfeQ5K5Oxw   \n",
       "2          NaN  ChIJCzYy5IS16lQRQrfeQ5K5Oxw   \n",
       "3          NaN  ChIJCzYy5IS16lQRQrfeQ5K5Oxw   \n",
       "4          NaN  ChIJCzYy5IS16lQRQrfeQ5K5Oxw   \n",
       "\n",
       "   retail_and_recreation_percent_change_from_baseline  \\\n",
       "0                                                6.0    \n",
       "1                                                7.0    \n",
       "2                                                6.0    \n",
       "3                                                0.0    \n",
       "4                                                2.0    \n",
       "\n",
       "   grocery_and_pharmacy_percent_change_from_baseline  \\\n",
       "0                                                2.0   \n",
       "1                                                1.0   \n",
       "2                                                0.0   \n",
       "3                                               -1.0   \n",
       "4                                                0.0   \n",
       "\n",
       "   parks_percent_change_from_baseline  \\\n",
       "0                                15.0   \n",
       "1                                16.0   \n",
       "2                                28.0   \n",
       "3                                 6.0   \n",
       "4                                 8.0   \n",
       "\n",
       "   transit_stations_percent_change_from_baseline  \\\n",
       "0                                            3.0   \n",
       "1                                            2.0   \n",
       "2                                           -9.0   \n",
       "3                                            1.0   \n",
       "4                                            1.0   \n",
       "\n",
       "   workplaces_percent_change_from_baseline  \\\n",
       "0                                      2.0   \n",
       "1                                      0.0   \n",
       "2                                    -24.0   \n",
       "3                                      0.0   \n",
       "4                                      1.0   \n",
       "\n",
       "   residential_percent_change_from_baseline  \n",
       "0                                      -1.0  \n",
       "1                                      -1.0  \n",
       "2                                       5.0  \n",
       "3                                       1.0  \n",
       "4                                       0.0  "
      ]
     },
     "execution_count": 4,
     "metadata": {},
     "output_type": "execute_result"
    }
   ],
   "source": [
    "region_placeID = us_mobil_2020.loc[:,[\"sub_region_1\",\"place_id\"]].copy()\n",
    "changes = us_mobil_2020.loc[:,\"retail_and_recreation_percent_change_from_baseline\":\"residential_percent_change_from_baseline\"].copy()\n",
    "mobil_sub = pd.concat((region_placeID, changes), axis = 1)\n",
    "mobil_sub.head()"
   ]
  },
  {
   "cell_type": "markdown",
   "metadata": {},
   "source": [
    "Once we've extracted the variables we're interested in from the raw data, we can start to preprocess the data. First, we'll remove the `_percent_change_from_baseline` suffix from any variables that contain it, and then we'll use [`pandas.melt`](https://pandas.pydata.org/pandas-docs/version/1.0.0/reference/api/pandas.melt.html#pandas.melt) to \"melt\" our dataframe from wide to long format (`place` will become a new column, along with `percent_change_from_baseline`)."
   ]
  },
  {
   "cell_type": "code",
   "execution_count": 5,
   "metadata": {},
   "outputs": [
    {
     "data": {
      "text/html": [
       "<div>\n",
       "<style scoped>\n",
       "    .dataframe tbody tr th:only-of-type {\n",
       "        vertical-align: middle;\n",
       "    }\n",
       "\n",
       "    .dataframe tbody tr th {\n",
       "        vertical-align: top;\n",
       "    }\n",
       "\n",
       "    .dataframe thead th {\n",
       "        text-align: right;\n",
       "    }\n",
       "</style>\n",
       "<table border=\"1\" class=\"dataframe\">\n",
       "  <thead>\n",
       "    <tr style=\"text-align: right;\">\n",
       "      <th></th>\n",
       "      <th>sub_region_1</th>\n",
       "      <th>place_id</th>\n",
       "      <th>retail_and_recreation</th>\n",
       "      <th>grocery_and_pharmacy</th>\n",
       "      <th>parks</th>\n",
       "      <th>transit_stations</th>\n",
       "      <th>workplaces</th>\n",
       "      <th>residential</th>\n",
       "    </tr>\n",
       "  </thead>\n",
       "  <tbody>\n",
       "    <tr>\n",
       "      <th>0</th>\n",
       "      <td>NaN</td>\n",
       "      <td>ChIJCzYy5IS16lQRQrfeQ5K5Oxw</td>\n",
       "      <td>6.0</td>\n",
       "      <td>2.0</td>\n",
       "      <td>15.0</td>\n",
       "      <td>3.0</td>\n",
       "      <td>2.0</td>\n",
       "      <td>-1.0</td>\n",
       "    </tr>\n",
       "    <tr>\n",
       "      <th>1</th>\n",
       "      <td>NaN</td>\n",
       "      <td>ChIJCzYy5IS16lQRQrfeQ5K5Oxw</td>\n",
       "      <td>7.0</td>\n",
       "      <td>1.0</td>\n",
       "      <td>16.0</td>\n",
       "      <td>2.0</td>\n",
       "      <td>0.0</td>\n",
       "      <td>-1.0</td>\n",
       "    </tr>\n",
       "    <tr>\n",
       "      <th>2</th>\n",
       "      <td>NaN</td>\n",
       "      <td>ChIJCzYy5IS16lQRQrfeQ5K5Oxw</td>\n",
       "      <td>6.0</td>\n",
       "      <td>0.0</td>\n",
       "      <td>28.0</td>\n",
       "      <td>-9.0</td>\n",
       "      <td>-24.0</td>\n",
       "      <td>5.0</td>\n",
       "    </tr>\n",
       "    <tr>\n",
       "      <th>3</th>\n",
       "      <td>NaN</td>\n",
       "      <td>ChIJCzYy5IS16lQRQrfeQ5K5Oxw</td>\n",
       "      <td>0.0</td>\n",
       "      <td>-1.0</td>\n",
       "      <td>6.0</td>\n",
       "      <td>1.0</td>\n",
       "      <td>0.0</td>\n",
       "      <td>1.0</td>\n",
       "    </tr>\n",
       "    <tr>\n",
       "      <th>4</th>\n",
       "      <td>NaN</td>\n",
       "      <td>ChIJCzYy5IS16lQRQrfeQ5K5Oxw</td>\n",
       "      <td>2.0</td>\n",
       "      <td>0.0</td>\n",
       "      <td>8.0</td>\n",
       "      <td>1.0</td>\n",
       "      <td>1.0</td>\n",
       "      <td>0.0</td>\n",
       "    </tr>\n",
       "    <tr>\n",
       "      <th>...</th>\n",
       "      <td>...</td>\n",
       "      <td>...</td>\n",
       "      <td>...</td>\n",
       "      <td>...</td>\n",
       "      <td>...</td>\n",
       "      <td>...</td>\n",
       "      <td>...</td>\n",
       "      <td>...</td>\n",
       "    </tr>\n",
       "    <tr>\n",
       "      <th>812060</th>\n",
       "      <td>Wyoming</td>\n",
       "      <td>ChIJd4Rqhed3YocR7ubT5-HgoJg</td>\n",
       "      <td>NaN</td>\n",
       "      <td>NaN</td>\n",
       "      <td>NaN</td>\n",
       "      <td>NaN</td>\n",
       "      <td>-56.0</td>\n",
       "      <td>NaN</td>\n",
       "    </tr>\n",
       "    <tr>\n",
       "      <th>812061</th>\n",
       "      <td>Wyoming</td>\n",
       "      <td>ChIJd4Rqhed3YocR7ubT5-HgoJg</td>\n",
       "      <td>NaN</td>\n",
       "      <td>NaN</td>\n",
       "      <td>NaN</td>\n",
       "      <td>NaN</td>\n",
       "      <td>-40.0</td>\n",
       "      <td>NaN</td>\n",
       "    </tr>\n",
       "    <tr>\n",
       "      <th>812062</th>\n",
       "      <td>Wyoming</td>\n",
       "      <td>ChIJd4Rqhed3YocR7ubT5-HgoJg</td>\n",
       "      <td>NaN</td>\n",
       "      <td>NaN</td>\n",
       "      <td>NaN</td>\n",
       "      <td>NaN</td>\n",
       "      <td>-43.0</td>\n",
       "      <td>NaN</td>\n",
       "    </tr>\n",
       "    <tr>\n",
       "      <th>812063</th>\n",
       "      <td>Wyoming</td>\n",
       "      <td>ChIJd4Rqhed3YocR7ubT5-HgoJg</td>\n",
       "      <td>NaN</td>\n",
       "      <td>NaN</td>\n",
       "      <td>NaN</td>\n",
       "      <td>NaN</td>\n",
       "      <td>-40.0</td>\n",
       "      <td>NaN</td>\n",
       "    </tr>\n",
       "    <tr>\n",
       "      <th>812064</th>\n",
       "      <td>Wyoming</td>\n",
       "      <td>ChIJd4Rqhed3YocR7ubT5-HgoJg</td>\n",
       "      <td>NaN</td>\n",
       "      <td>NaN</td>\n",
       "      <td>NaN</td>\n",
       "      <td>NaN</td>\n",
       "      <td>-38.0</td>\n",
       "      <td>NaN</td>\n",
       "    </tr>\n",
       "  </tbody>\n",
       "</table>\n",
       "<p>812065 rows × 8 columns</p>\n",
       "</div>"
      ],
      "text/plain": [
       "       sub_region_1                     place_id  retail_and_recreation  \\\n",
       "0               NaN  ChIJCzYy5IS16lQRQrfeQ5K5Oxw                    6.0   \n",
       "1               NaN  ChIJCzYy5IS16lQRQrfeQ5K5Oxw                    7.0   \n",
       "2               NaN  ChIJCzYy5IS16lQRQrfeQ5K5Oxw                    6.0   \n",
       "3               NaN  ChIJCzYy5IS16lQRQrfeQ5K5Oxw                    0.0   \n",
       "4               NaN  ChIJCzYy5IS16lQRQrfeQ5K5Oxw                    2.0   \n",
       "...             ...                          ...                    ...   \n",
       "812060      Wyoming  ChIJd4Rqhed3YocR7ubT5-HgoJg                    NaN   \n",
       "812061      Wyoming  ChIJd4Rqhed3YocR7ubT5-HgoJg                    NaN   \n",
       "812062      Wyoming  ChIJd4Rqhed3YocR7ubT5-HgoJg                    NaN   \n",
       "812063      Wyoming  ChIJd4Rqhed3YocR7ubT5-HgoJg                    NaN   \n",
       "812064      Wyoming  ChIJd4Rqhed3YocR7ubT5-HgoJg                    NaN   \n",
       "\n",
       "        grocery_and_pharmacy  parks  transit_stations  workplaces  residential  \n",
       "0                        2.0   15.0               3.0         2.0         -1.0  \n",
       "1                        1.0   16.0               2.0         0.0         -1.0  \n",
       "2                        0.0   28.0              -9.0       -24.0          5.0  \n",
       "3                       -1.0    6.0               1.0         0.0          1.0  \n",
       "4                        0.0    8.0               1.0         1.0          0.0  \n",
       "...                      ...    ...               ...         ...          ...  \n",
       "812060                   NaN    NaN               NaN       -56.0          NaN  \n",
       "812061                   NaN    NaN               NaN       -40.0          NaN  \n",
       "812062                   NaN    NaN               NaN       -43.0          NaN  \n",
       "812063                   NaN    NaN               NaN       -40.0          NaN  \n",
       "812064                   NaN    NaN               NaN       -38.0          NaN  \n",
       "\n",
       "[812065 rows x 8 columns]"
      ]
     },
     "execution_count": 5,
     "metadata": {},
     "output_type": "execute_result"
    }
   ],
   "source": [
    "mobil_sub.columns = [col_name.replace(\"_percent_change_from_baseline\", \"\") for col_name in mobil_sub.columns]\n",
    "mobil_sub"
   ]
  },
  {
   "cell_type": "code",
   "execution_count": 6,
   "metadata": {},
   "outputs": [
    {
     "data": {
      "text/html": [
       "<div>\n",
       "<style scoped>\n",
       "    .dataframe tbody tr th:only-of-type {\n",
       "        vertical-align: middle;\n",
       "    }\n",
       "\n",
       "    .dataframe tbody tr th {\n",
       "        vertical-align: top;\n",
       "    }\n",
       "\n",
       "    .dataframe thead th {\n",
       "        text-align: right;\n",
       "    }\n",
       "</style>\n",
       "<table border=\"1\" class=\"dataframe\">\n",
       "  <thead>\n",
       "    <tr style=\"text-align: right;\">\n",
       "      <th></th>\n",
       "      <th>sub_region_1</th>\n",
       "      <th>place_id</th>\n",
       "      <th>place</th>\n",
       "      <th>percent_change_from_baseline</th>\n",
       "    </tr>\n",
       "  </thead>\n",
       "  <tbody>\n",
       "    <tr>\n",
       "      <th>0</th>\n",
       "      <td>NaN</td>\n",
       "      <td>ChIJCzYy5IS16lQRQrfeQ5K5Oxw</td>\n",
       "      <td>retail_and_recreation</td>\n",
       "      <td>6.0</td>\n",
       "    </tr>\n",
       "    <tr>\n",
       "      <th>1</th>\n",
       "      <td>NaN</td>\n",
       "      <td>ChIJCzYy5IS16lQRQrfeQ5K5Oxw</td>\n",
       "      <td>retail_and_recreation</td>\n",
       "      <td>7.0</td>\n",
       "    </tr>\n",
       "    <tr>\n",
       "      <th>2</th>\n",
       "      <td>NaN</td>\n",
       "      <td>ChIJCzYy5IS16lQRQrfeQ5K5Oxw</td>\n",
       "      <td>retail_and_recreation</td>\n",
       "      <td>6.0</td>\n",
       "    </tr>\n",
       "    <tr>\n",
       "      <th>3</th>\n",
       "      <td>NaN</td>\n",
       "      <td>ChIJCzYy5IS16lQRQrfeQ5K5Oxw</td>\n",
       "      <td>retail_and_recreation</td>\n",
       "      <td>0.0</td>\n",
       "    </tr>\n",
       "    <tr>\n",
       "      <th>4</th>\n",
       "      <td>NaN</td>\n",
       "      <td>ChIJCzYy5IS16lQRQrfeQ5K5Oxw</td>\n",
       "      <td>retail_and_recreation</td>\n",
       "      <td>2.0</td>\n",
       "    </tr>\n",
       "    <tr>\n",
       "      <th>...</th>\n",
       "      <td>...</td>\n",
       "      <td>...</td>\n",
       "      <td>...</td>\n",
       "      <td>...</td>\n",
       "    </tr>\n",
       "    <tr>\n",
       "      <th>4872385</th>\n",
       "      <td>Wyoming</td>\n",
       "      <td>ChIJd4Rqhed3YocR7ubT5-HgoJg</td>\n",
       "      <td>residential</td>\n",
       "      <td>NaN</td>\n",
       "    </tr>\n",
       "    <tr>\n",
       "      <th>4872386</th>\n",
       "      <td>Wyoming</td>\n",
       "      <td>ChIJd4Rqhed3YocR7ubT5-HgoJg</td>\n",
       "      <td>residential</td>\n",
       "      <td>NaN</td>\n",
       "    </tr>\n",
       "    <tr>\n",
       "      <th>4872387</th>\n",
       "      <td>Wyoming</td>\n",
       "      <td>ChIJd4Rqhed3YocR7ubT5-HgoJg</td>\n",
       "      <td>residential</td>\n",
       "      <td>NaN</td>\n",
       "    </tr>\n",
       "    <tr>\n",
       "      <th>4872388</th>\n",
       "      <td>Wyoming</td>\n",
       "      <td>ChIJd4Rqhed3YocR7ubT5-HgoJg</td>\n",
       "      <td>residential</td>\n",
       "      <td>NaN</td>\n",
       "    </tr>\n",
       "    <tr>\n",
       "      <th>4872389</th>\n",
       "      <td>Wyoming</td>\n",
       "      <td>ChIJd4Rqhed3YocR7ubT5-HgoJg</td>\n",
       "      <td>residential</td>\n",
       "      <td>NaN</td>\n",
       "    </tr>\n",
       "  </tbody>\n",
       "</table>\n",
       "<p>4872390 rows × 4 columns</p>\n",
       "</div>"
      ],
      "text/plain": [
       "        sub_region_1                     place_id                  place  \\\n",
       "0                NaN  ChIJCzYy5IS16lQRQrfeQ5K5Oxw  retail_and_recreation   \n",
       "1                NaN  ChIJCzYy5IS16lQRQrfeQ5K5Oxw  retail_and_recreation   \n",
       "2                NaN  ChIJCzYy5IS16lQRQrfeQ5K5Oxw  retail_and_recreation   \n",
       "3                NaN  ChIJCzYy5IS16lQRQrfeQ5K5Oxw  retail_and_recreation   \n",
       "4                NaN  ChIJCzYy5IS16lQRQrfeQ5K5Oxw  retail_and_recreation   \n",
       "...              ...                          ...                    ...   \n",
       "4872385      Wyoming  ChIJd4Rqhed3YocR7ubT5-HgoJg            residential   \n",
       "4872386      Wyoming  ChIJd4Rqhed3YocR7ubT5-HgoJg            residential   \n",
       "4872387      Wyoming  ChIJd4Rqhed3YocR7ubT5-HgoJg            residential   \n",
       "4872388      Wyoming  ChIJd4Rqhed3YocR7ubT5-HgoJg            residential   \n",
       "4872389      Wyoming  ChIJd4Rqhed3YocR7ubT5-HgoJg            residential   \n",
       "\n",
       "         percent_change_from_baseline  \n",
       "0                                 6.0  \n",
       "1                                 7.0  \n",
       "2                                 6.0  \n",
       "3                                 0.0  \n",
       "4                                 2.0  \n",
       "...                               ...  \n",
       "4872385                           NaN  \n",
       "4872386                           NaN  \n",
       "4872387                           NaN  \n",
       "4872388                           NaN  \n",
       "4872389                           NaN  \n",
       "\n",
       "[4872390 rows x 4 columns]"
      ]
     },
     "execution_count": 6,
     "metadata": {},
     "output_type": "execute_result"
    }
   ],
   "source": [
    "mobil_2020_tidy = pd.melt(mobil_sub, \n",
    "                                id_vars = [\"sub_region_1\", \"place_id\"],\n",
    "                                var_name = \"place\",\n",
    "                                value_name = \"percent_change_from_baseline\")\n",
    "mobil_2020_tidy"
   ]
  },
  {
   "cell_type": "markdown",
   "metadata": {},
   "source": [
    "### Model and Visualize the effect of State and Place on Mobility"
   ]
  },
  {
   "cell_type": "markdown",
   "metadata": {},
   "source": [
    "We can use [`statsmodels.OLS.from_formula`](https://www.statsmodels.org/dev/generated/statsmodels.regression.linear_model.OLS.from_formula.html) to predict percent mobility change (`percent_change_from_baseline`) as a function of (`~`) state (`sub_region_1`) and `place`. Notice how many rows we have in our data - almost 5 million! It might take 30 seconds or so (don't be alarmed)."
   ]
  },
  {
   "cell_type": "code",
   "execution_count": 7,
   "metadata": {},
   "outputs": [],
   "source": [
    "formula = \"percent_change_from_baseline ~ sub_region_1 + place\"\n",
    "model = sm.OLS.from_formula(formula = formula,\n",
    "                            data = mobil_2020_tidy)\n",
    "results = model.fit()"
   ]
  },
  {
   "cell_type": "markdown",
   "metadata": {},
   "source": [
    "After that, we can get the model predictions and the summary dataframe before we begin to aggregate the results by state and place."
   ]
  },
  {
   "cell_type": "code",
   "execution_count": 8,
   "metadata": {},
   "outputs": [
    {
     "name": "stdout",
     "output_type": "stream",
     "text": [
      "              mean   mean_se  mean_ci_lower  mean_ci_upper  obs_ci_lower  \\\n",
      "321      -8.964392  0.093604      -9.147852      -8.780933    -53.930294   \n",
      "322      -8.964392  0.093604      -9.147852      -8.780933    -53.930294   \n",
      "323      -8.964392  0.093604      -9.147852      -8.780933    -53.930294   \n",
      "324      -8.964392  0.093604      -9.147852      -8.780933    -53.930294   \n",
      "325      -8.964392  0.093604      -9.147852      -8.780933    -53.930294   \n",
      "...            ...       ...            ...            ...           ...   \n",
      "4871954  14.217973  0.175799      13.873412      14.562533    -30.748875   \n",
      "4871957  14.217973  0.175799      13.873412      14.562533    -30.748875   \n",
      "4871958  14.217973  0.175799      13.873412      14.562533    -30.748875   \n",
      "4871959  14.217973  0.175799      13.873412      14.562533    -30.748875   \n",
      "4871960  14.217973  0.175799      13.873412      14.562533    -30.748875   \n",
      "\n",
      "         obs_ci_upper  \n",
      "321         36.001509  \n",
      "322         36.001509  \n",
      "323         36.001509  \n",
      "324         36.001509  \n",
      "325         36.001509  \n",
      "...               ...  \n",
      "4871954     59.184820  \n",
      "4871957     59.184820  \n",
      "4871958     59.184820  \n",
      "4871959     59.184820  \n",
      "4871960     59.184820  \n",
      "\n",
      "[2754604 rows x 6 columns]\n"
     ]
    }
   ],
   "source": [
    "predict_results = results.get_prediction()\n",
    "result_frame = predict_results.summary_frame()\n",
    "print(result_frame)"
   ]
  },
  {
   "cell_type": "markdown",
   "metadata": {},
   "source": [
    "As we can see above, the summarized predictions no longer contain state or place information, so in order to make our lives easier (and know what each of the result observations refers to), we can add those variables back into the dataframe."
   ]
  },
  {
   "cell_type": "code",
   "execution_count": 9,
   "metadata": {},
   "outputs": [],
   "source": [
    "result_frame.insert(0, \"state\", mobil_2020_tidy[\"sub_region_1\"].copy())\n",
    "result_frame.insert(1, \"place\", mobil_2020_tidy[\"place\"].copy())"
   ]
  },
  {
   "cell_type": "code",
   "execution_count": 10,
   "metadata": {},
   "outputs": [
    {
     "data": {
      "text/html": [
       "<div>\n",
       "<style scoped>\n",
       "    .dataframe tbody tr th:only-of-type {\n",
       "        vertical-align: middle;\n",
       "    }\n",
       "\n",
       "    .dataframe tbody tr th {\n",
       "        vertical-align: top;\n",
       "    }\n",
       "\n",
       "    .dataframe thead th {\n",
       "        text-align: right;\n",
       "    }\n",
       "</style>\n",
       "<table border=\"1\" class=\"dataframe\">\n",
       "  <thead>\n",
       "    <tr style=\"text-align: right;\">\n",
       "      <th></th>\n",
       "      <th>state</th>\n",
       "      <th>place</th>\n",
       "      <th>mean</th>\n",
       "      <th>mean_se</th>\n",
       "      <th>mean_ci_lower</th>\n",
       "      <th>mean_ci_upper</th>\n",
       "      <th>obs_ci_lower</th>\n",
       "      <th>obs_ci_upper</th>\n",
       "    </tr>\n",
       "  </thead>\n",
       "  <tbody>\n",
       "    <tr>\n",
       "      <th>321</th>\n",
       "      <td>Alabama</td>\n",
       "      <td>retail_and_recreation</td>\n",
       "      <td>-8.964392</td>\n",
       "      <td>0.093604</td>\n",
       "      <td>-9.147852</td>\n",
       "      <td>-8.780933</td>\n",
       "      <td>-53.930294</td>\n",
       "      <td>36.001509</td>\n",
       "    </tr>\n",
       "    <tr>\n",
       "      <th>322</th>\n",
       "      <td>Alabama</td>\n",
       "      <td>retail_and_recreation</td>\n",
       "      <td>-8.964392</td>\n",
       "      <td>0.093604</td>\n",
       "      <td>-9.147852</td>\n",
       "      <td>-8.780933</td>\n",
       "      <td>-53.930294</td>\n",
       "      <td>36.001509</td>\n",
       "    </tr>\n",
       "    <tr>\n",
       "      <th>323</th>\n",
       "      <td>Alabama</td>\n",
       "      <td>retail_and_recreation</td>\n",
       "      <td>-8.964392</td>\n",
       "      <td>0.093604</td>\n",
       "      <td>-9.147852</td>\n",
       "      <td>-8.780933</td>\n",
       "      <td>-53.930294</td>\n",
       "      <td>36.001509</td>\n",
       "    </tr>\n",
       "    <tr>\n",
       "      <th>324</th>\n",
       "      <td>Alabama</td>\n",
       "      <td>retail_and_recreation</td>\n",
       "      <td>-8.964392</td>\n",
       "      <td>0.093604</td>\n",
       "      <td>-9.147852</td>\n",
       "      <td>-8.780933</td>\n",
       "      <td>-53.930294</td>\n",
       "      <td>36.001509</td>\n",
       "    </tr>\n",
       "    <tr>\n",
       "      <th>325</th>\n",
       "      <td>Alabama</td>\n",
       "      <td>retail_and_recreation</td>\n",
       "      <td>-8.964392</td>\n",
       "      <td>0.093604</td>\n",
       "      <td>-9.147852</td>\n",
       "      <td>-8.780933</td>\n",
       "      <td>-53.930294</td>\n",
       "      <td>36.001509</td>\n",
       "    </tr>\n",
       "    <tr>\n",
       "      <th>...</th>\n",
       "      <td>...</td>\n",
       "      <td>...</td>\n",
       "      <td>...</td>\n",
       "      <td>...</td>\n",
       "      <td>...</td>\n",
       "      <td>...</td>\n",
       "      <td>...</td>\n",
       "      <td>...</td>\n",
       "    </tr>\n",
       "    <tr>\n",
       "      <th>4871954</th>\n",
       "      <td>Wyoming</td>\n",
       "      <td>residential</td>\n",
       "      <td>14.217973</td>\n",
       "      <td>0.175799</td>\n",
       "      <td>13.873412</td>\n",
       "      <td>14.562533</td>\n",
       "      <td>-30.748875</td>\n",
       "      <td>59.184820</td>\n",
       "    </tr>\n",
       "    <tr>\n",
       "      <th>4871957</th>\n",
       "      <td>Wyoming</td>\n",
       "      <td>residential</td>\n",
       "      <td>14.217973</td>\n",
       "      <td>0.175799</td>\n",
       "      <td>13.873412</td>\n",
       "      <td>14.562533</td>\n",
       "      <td>-30.748875</td>\n",
       "      <td>59.184820</td>\n",
       "    </tr>\n",
       "    <tr>\n",
       "      <th>4871958</th>\n",
       "      <td>Wyoming</td>\n",
       "      <td>residential</td>\n",
       "      <td>14.217973</td>\n",
       "      <td>0.175799</td>\n",
       "      <td>13.873412</td>\n",
       "      <td>14.562533</td>\n",
       "      <td>-30.748875</td>\n",
       "      <td>59.184820</td>\n",
       "    </tr>\n",
       "    <tr>\n",
       "      <th>4871959</th>\n",
       "      <td>Wyoming</td>\n",
       "      <td>residential</td>\n",
       "      <td>14.217973</td>\n",
       "      <td>0.175799</td>\n",
       "      <td>13.873412</td>\n",
       "      <td>14.562533</td>\n",
       "      <td>-30.748875</td>\n",
       "      <td>59.184820</td>\n",
       "    </tr>\n",
       "    <tr>\n",
       "      <th>4871960</th>\n",
       "      <td>Wyoming</td>\n",
       "      <td>residential</td>\n",
       "      <td>14.217973</td>\n",
       "      <td>0.175799</td>\n",
       "      <td>13.873412</td>\n",
       "      <td>14.562533</td>\n",
       "      <td>-30.748875</td>\n",
       "      <td>59.184820</td>\n",
       "    </tr>\n",
       "  </tbody>\n",
       "</table>\n",
       "<p>2754604 rows × 8 columns</p>\n",
       "</div>"
      ],
      "text/plain": [
       "           state                  place       mean   mean_se  mean_ci_lower  \\\n",
       "321      Alabama  retail_and_recreation  -8.964392  0.093604      -9.147852   \n",
       "322      Alabama  retail_and_recreation  -8.964392  0.093604      -9.147852   \n",
       "323      Alabama  retail_and_recreation  -8.964392  0.093604      -9.147852   \n",
       "324      Alabama  retail_and_recreation  -8.964392  0.093604      -9.147852   \n",
       "325      Alabama  retail_and_recreation  -8.964392  0.093604      -9.147852   \n",
       "...          ...                    ...        ...       ...            ...   \n",
       "4871954  Wyoming            residential  14.217973  0.175799      13.873412   \n",
       "4871957  Wyoming            residential  14.217973  0.175799      13.873412   \n",
       "4871958  Wyoming            residential  14.217973  0.175799      13.873412   \n",
       "4871959  Wyoming            residential  14.217973  0.175799      13.873412   \n",
       "4871960  Wyoming            residential  14.217973  0.175799      13.873412   \n",
       "\n",
       "         mean_ci_upper  obs_ci_lower  obs_ci_upper  \n",
       "321          -8.780933    -53.930294     36.001509  \n",
       "322          -8.780933    -53.930294     36.001509  \n",
       "323          -8.780933    -53.930294     36.001509  \n",
       "324          -8.780933    -53.930294     36.001509  \n",
       "325          -8.780933    -53.930294     36.001509  \n",
       "...                ...           ...           ...  \n",
       "4871954      14.562533    -30.748875     59.184820  \n",
       "4871957      14.562533    -30.748875     59.184820  \n",
       "4871958      14.562533    -30.748875     59.184820  \n",
       "4871959      14.562533    -30.748875     59.184820  \n",
       "4871960      14.562533    -30.748875     59.184820  \n",
       "\n",
       "[2754604 rows x 8 columns]"
      ]
     },
     "execution_count": 10,
     "metadata": {},
     "output_type": "execute_result"
    }
   ],
   "source": [
    "result_frame"
   ]
  },
  {
   "cell_type": "markdown",
   "metadata": {},
   "source": [
    "There are a few things we can notice about the rows of this dataframe  - there appear to be a significant number of repeats in the data for each place within each state. Therefore, we can group our dataframe by `state`, then `place` and aggregate using the mean. Finally, we can also update the place names so they no longer have underscores in place of spaces, to prepare for visualizing our results."
   ]
  },
  {
   "cell_type": "code",
   "execution_count": 11,
   "metadata": {},
   "outputs": [
    {
     "data": {
      "text/html": [
       "<div>\n",
       "<style scoped>\n",
       "    .dataframe tbody tr th:only-of-type {\n",
       "        vertical-align: middle;\n",
       "    }\n",
       "\n",
       "    .dataframe tbody tr th {\n",
       "        vertical-align: top;\n",
       "    }\n",
       "\n",
       "    .dataframe thead th {\n",
       "        text-align: right;\n",
       "    }\n",
       "</style>\n",
       "<table border=\"1\" class=\"dataframe\">\n",
       "  <thead>\n",
       "    <tr style=\"text-align: right;\">\n",
       "      <th></th>\n",
       "      <th>state</th>\n",
       "      <th>place</th>\n",
       "      <th>mean</th>\n",
       "      <th>mean_se</th>\n",
       "      <th>mean_ci_lower</th>\n",
       "      <th>mean_ci_upper</th>\n",
       "      <th>obs_ci_lower</th>\n",
       "      <th>obs_ci_upper</th>\n",
       "    </tr>\n",
       "  </thead>\n",
       "  <tbody>\n",
       "    <tr>\n",
       "      <th>0</th>\n",
       "      <td>Alabama</td>\n",
       "      <td>grocery and pharmacy</td>\n",
       "      <td>2.325717</td>\n",
       "      <td>0.093900</td>\n",
       "      <td>2.141676</td>\n",
       "      <td>2.509757</td>\n",
       "      <td>-42.640187</td>\n",
       "      <td>47.291621</td>\n",
       "    </tr>\n",
       "    <tr>\n",
       "      <th>1</th>\n",
       "      <td>Alabama</td>\n",
       "      <td>parks</td>\n",
       "      <td>31.213234</td>\n",
       "      <td>0.103137</td>\n",
       "      <td>31.011089</td>\n",
       "      <td>31.415378</td>\n",
       "      <td>-13.752748</td>\n",
       "      <td>76.179216</td>\n",
       "    </tr>\n",
       "    <tr>\n",
       "      <th>2</th>\n",
       "      <td>Alabama</td>\n",
       "      <td>residential</td>\n",
       "      <td>8.695328</td>\n",
       "      <td>0.094897</td>\n",
       "      <td>8.509332</td>\n",
       "      <td>8.881324</td>\n",
       "      <td>-36.270584</td>\n",
       "      <td>53.661240</td>\n",
       "    </tr>\n",
       "    <tr>\n",
       "      <th>3</th>\n",
       "      <td>Alabama</td>\n",
       "      <td>retail and recreation</td>\n",
       "      <td>-8.964392</td>\n",
       "      <td>0.093604</td>\n",
       "      <td>-9.147852</td>\n",
       "      <td>-8.780933</td>\n",
       "      <td>-53.930294</td>\n",
       "      <td>36.001509</td>\n",
       "    </tr>\n",
       "    <tr>\n",
       "      <th>4</th>\n",
       "      <td>Alabama</td>\n",
       "      <td>transit stations</td>\n",
       "      <td>-10.726891</td>\n",
       "      <td>0.097719</td>\n",
       "      <td>-10.918417</td>\n",
       "      <td>-10.535366</td>\n",
       "      <td>-55.692827</td>\n",
       "      <td>34.239044</td>\n",
       "    </tr>\n",
       "    <tr>\n",
       "      <th>...</th>\n",
       "      <td>...</td>\n",
       "      <td>...</td>\n",
       "      <td>...</td>\n",
       "      <td>...</td>\n",
       "      <td>...</td>\n",
       "      <td>...</td>\n",
       "      <td>...</td>\n",
       "      <td>...</td>\n",
       "    </tr>\n",
       "    <tr>\n",
       "      <th>301</th>\n",
       "      <td>Wyoming</td>\n",
       "      <td>parks</td>\n",
       "      <td>36.735878</td>\n",
       "      <td>0.180231</td>\n",
       "      <td>36.382632</td>\n",
       "      <td>37.089125</td>\n",
       "      <td>-8.231037</td>\n",
       "      <td>81.702793</td>\n",
       "    </tr>\n",
       "    <tr>\n",
       "      <th>302</th>\n",
       "      <td>Wyoming</td>\n",
       "      <td>residential</td>\n",
       "      <td>14.217973</td>\n",
       "      <td>0.175799</td>\n",
       "      <td>13.873412</td>\n",
       "      <td>14.562533</td>\n",
       "      <td>-30.748875</td>\n",
       "      <td>59.184820</td>\n",
       "    </tr>\n",
       "    <tr>\n",
       "      <th>303</th>\n",
       "      <td>Wyoming</td>\n",
       "      <td>retail and recreation</td>\n",
       "      <td>-3.441748</td>\n",
       "      <td>0.174893</td>\n",
       "      <td>-3.784532</td>\n",
       "      <td>-3.098963</td>\n",
       "      <td>-48.408582</td>\n",
       "      <td>41.525086</td>\n",
       "    </tr>\n",
       "    <tr>\n",
       "      <th>304</th>\n",
       "      <td>Wyoming</td>\n",
       "      <td>transit stations</td>\n",
       "      <td>-5.204247</td>\n",
       "      <td>0.176662</td>\n",
       "      <td>-5.550498</td>\n",
       "      <td>-4.857996</td>\n",
       "      <td>-50.171107</td>\n",
       "      <td>39.762613</td>\n",
       "    </tr>\n",
       "    <tr>\n",
       "      <th>305</th>\n",
       "      <td>Wyoming</td>\n",
       "      <td>workplaces</td>\n",
       "      <td>-17.396084</td>\n",
       "      <td>0.173927</td>\n",
       "      <td>-17.736975</td>\n",
       "      <td>-17.055194</td>\n",
       "      <td>-62.362904</td>\n",
       "      <td>27.570735</td>\n",
       "    </tr>\n",
       "  </tbody>\n",
       "</table>\n",
       "<p>306 rows × 8 columns</p>\n",
       "</div>"
      ],
      "text/plain": [
       "       state                  place       mean   mean_se  mean_ci_lower  \\\n",
       "0    Alabama   grocery and pharmacy   2.325717  0.093900       2.141676   \n",
       "1    Alabama                  parks  31.213234  0.103137      31.011089   \n",
       "2    Alabama            residential   8.695328  0.094897       8.509332   \n",
       "3    Alabama  retail and recreation  -8.964392  0.093604      -9.147852   \n",
       "4    Alabama       transit stations -10.726891  0.097719     -10.918417   \n",
       "..       ...                    ...        ...       ...            ...   \n",
       "301  Wyoming                  parks  36.735878  0.180231      36.382632   \n",
       "302  Wyoming            residential  14.217973  0.175799      13.873412   \n",
       "303  Wyoming  retail and recreation  -3.441748  0.174893      -3.784532   \n",
       "304  Wyoming       transit stations  -5.204247  0.176662      -5.550498   \n",
       "305  Wyoming             workplaces -17.396084  0.173927     -17.736975   \n",
       "\n",
       "     mean_ci_upper  obs_ci_lower  obs_ci_upper  \n",
       "0         2.509757    -42.640187     47.291621  \n",
       "1        31.415378    -13.752748     76.179216  \n",
       "2         8.881324    -36.270584     53.661240  \n",
       "3        -8.780933    -53.930294     36.001509  \n",
       "4       -10.535366    -55.692827     34.239044  \n",
       "..             ...           ...           ...  \n",
       "301      37.089125     -8.231037     81.702793  \n",
       "302      14.562533    -30.748875     59.184820  \n",
       "303      -3.098963    -48.408582     41.525086  \n",
       "304      -4.857996    -50.171107     39.762613  \n",
       "305     -17.055194    -62.362904     27.570735  \n",
       "\n",
       "[306 rows x 8 columns]"
      ]
     },
     "execution_count": 11,
     "metadata": {},
     "output_type": "execute_result"
    }
   ],
   "source": [
    "result_frame.dropna(subset = \"state\", inplace = True)\n",
    "result_frame = result_frame.groupby(['state', 'place']).mean()\n",
    "result_frame.reset_index(level = [\"state\", \"place\"], inplace = True)\n",
    "result_frame['place'] = [place.replace(\"_\", \" \") for place in result_frame['place']]\n",
    "result_frame"
   ]
  },
  {
   "cell_type": "markdown",
   "metadata": {},
   "source": [
    "We can run an [ANOVA](https://www.statisticshowto.com/probability-and-statistics/hypothesis-testing/anova/) test, in case reporting on significance of findings is necessary. ANOVA is a hypothesis test that is used to determine if the relationships between our features/factors (the independent variables - state and place) and the dependent variable (percent mobility change) are significant. See the above link for more information. We will use [`statsmodels.stats.anova_lm`](https://www.statsmodels.org/dev/generated/statsmodels.stats.anova.anova_lm.html)."
   ]
  },
  {
   "cell_type": "code",
   "execution_count": 12,
   "metadata": {},
   "outputs": [
    {
     "data": {
      "text/html": [
       "<div>\n",
       "<style scoped>\n",
       "    .dataframe tbody tr th:only-of-type {\n",
       "        vertical-align: middle;\n",
       "    }\n",
       "\n",
       "    .dataframe tbody tr th {\n",
       "        vertical-align: top;\n",
       "    }\n",
       "\n",
       "    .dataframe thead th {\n",
       "        text-align: right;\n",
       "    }\n",
       "</style>\n",
       "<table border=\"1\" class=\"dataframe\">\n",
       "  <thead>\n",
       "    <tr style=\"text-align: right;\">\n",
       "      <th></th>\n",
       "      <th>sum_sq</th>\n",
       "      <th>df</th>\n",
       "      <th>F</th>\n",
       "      <th>PR(&gt;F)</th>\n",
       "    </tr>\n",
       "  </thead>\n",
       "  <tbody>\n",
       "    <tr>\n",
       "      <th>sub_region_1</th>\n",
       "      <td>5.387358e+07</td>\n",
       "      <td>50.0</td>\n",
       "      <td>2047.118540</td>\n",
       "      <td>0.0</td>\n",
       "    </tr>\n",
       "    <tr>\n",
       "      <th>place</th>\n",
       "      <td>6.169537e+08</td>\n",
       "      <td>5.0</td>\n",
       "      <td>234433.531397</td>\n",
       "      <td>0.0</td>\n",
       "    </tr>\n",
       "    <tr>\n",
       "      <th>Residual</th>\n",
       "      <td>1.449817e+09</td>\n",
       "      <td>2754548.0</td>\n",
       "      <td>NaN</td>\n",
       "      <td>NaN</td>\n",
       "    </tr>\n",
       "  </tbody>\n",
       "</table>\n",
       "</div>"
      ],
      "text/plain": [
       "                    sum_sq         df              F  PR(>F)\n",
       "sub_region_1  5.387358e+07       50.0    2047.118540     0.0\n",
       "place         6.169537e+08        5.0  234433.531397     0.0\n",
       "Residual      1.449817e+09  2754548.0            NaN     NaN"
      ]
     },
     "execution_count": 12,
     "metadata": {},
     "output_type": "execute_result"
    }
   ],
   "source": [
    "sm.stats.anova_lm(results, typ = \"II\")"
   ]
  },
  {
   "cell_type": "markdown",
   "metadata": {},
   "source": [
    "### Visualize the effect of Place on Mobility\n",
    "\n",
    "After fitting our model and hypothesis testing, we can visualize our results.\n",
    "\n",
    "First, we'll visualize the effect of `place` on `mean` percent mobility change. To do this, we'll create a [`seaborn.pointplot`](https://seaborn.pydata.org/generated/seaborn.pointplot.html). The points in the point plot will be based on the aggregated `mean` across each distinct `place` and the error bars are the standard deviation of those estimates."
   ]
  },
  {
   "cell_type": "code",
   "execution_count": 13,
   "metadata": {},
   "outputs": [
    {
     "data": {
      "text/plain": [
       "[Text(0.5, 1.0, 'Mobility Change in the United States\\nacross place types, pre-pandemic baseline at 0'),\n",
       " Text(0.5, 0, 'average mobility change from pre-pandemic baseline')]"
      ]
     },
     "execution_count": 13,
     "metadata": {},
     "output_type": "execute_result"
    },
    {
     "data": {
      "image/png": "[encoded data removed]",
      "text/plain": [
       "<Figure size 432x288 with 1 Axes>"
      ]
     },
     "metadata": {},
     "output_type": "display_data"
    }
   ],
   "source": [
    "sns.set_theme(style=\"white\")\n",
    "sns.set_palette('pastel', n_colors = len(result_frame))\n",
    "\n",
    "result_frame.sort_values(by = \"mean\", ascending = False, inplace = True)\n",
    "\n",
    "# create plot\n",
    "# set figure size and set padding around subplots to \"tight\" \n",
    "# (to make sure labs are included)\n",
    "# plt.figure(figsize=[6, 5])\n",
    "plt.tight_layout()\n",
    "\n",
    "# add vertical line at 0 (baseline)\n",
    "plt.axvline(x = 0, color = \"orange\")\n",
    "\n",
    "# add place errorbars\n",
    "ax = sns.pointplot(y = \"place\", \n",
    "                x= \"mean\", \n",
    "                orient = \"h\",\n",
    "                ci = 'sd',\n",
    "                data = result_frame,\n",
    "                join = False,\n",
    "                markers = \"|\")\n",
    "\n",
    "# set axis labels\n",
    "ax.set(title = \"Mobility Change in the United States\\nacross place types, pre-pandemic baseline at 0\",\n",
    "        xlabel = \"average mobility change from pre-pandemic baseline\")"
   ]
  },
  {
   "cell_type": "markdown",
   "metadata": {},
   "source": [
    "In the plot above, we can see that the average mobility change by place was greatest in parks - which saw increased mobility during 2020 compared to the pre-pandemic baseline (0). By contrast, workplaces had the greatest *decrease* in mobility, dropping by somewhere around 25%."
   ]
  },
  {
   "cell_type": "markdown",
   "metadata": {},
   "source": [
    "### Visualize the effect of State on Mobility\n",
    "\n",
    "We can also use `plotly` to visualize the effect of state on average mobility change. First we have to re-group the data so that it's grouped by state only, to prepare for the visualization. Plotly will give us the tools we need to create an interactive [chloropleth map](https://plotly.github.io/plotly.py-docs/generated/plotly.express.choropleth.html), which is pretty cool! Plotly is backed by JavaScript, which lends its dynamic functionality (and it's available in multiple languages, too!)."
   ]
  },
  {
   "cell_type": "code",
   "execution_count": 14,
   "metadata": {},
   "outputs": [
    {
     "data": {
      "application/vnd.plotly.v1+json": {
       "config": {
        "plotlyServerURL": "https://plot.ly"
       },
       "data": [
        {
         "coloraxis": "coloraxis",
         "geo": "geo",
         "hovertemplate": "state=%{location}<br>avg. change (%)=%{z}<extra></extra>",
         "locationmode": "USA-states",
         "locations": [
          "AL",
          "AK",
          "AZ",
          "AR",
          "CA",
          "CO",
          "CT",
          "DE",
          "DC",
          "FL",
          "GA",
          "HI",
          "ID",
          "IL",
          "IN",
          "IA",
          "KS",
          "KY",
          "LA",
          "ME",
          "MD",
          "MA",
          "MI",
          "MN",
          "MS",
          "MO",
          "MT",
          "NE",
          "NV",
          "NH",
          "NJ",
          "NM",
          "NY",
          "NC",
          "ND",
          "OH",
          "OK",
          "OR",
          "PA",
          "RI",
          "SC",
          "SD",
          "TN",
          "TX",
          "UT",
          "VT",
          "VA",
          "WA",
          "WV",
          "WI",
          "WY"
         ],
         "name": "",
         "type": "choropleth",
         "z": [
          -0.06262235686758899,
          1.836512419626685,
          -8.67736059905466,
          2.856301387140096,
          -10.598373267809412,
          -4.776990433765083,
          -1.784301727503926,
          -0.640332132894585,
          -32.633437175511254,
          -12.154785371538528,
          -0.7604429400522678,
          -31.907162538318175,
          5.519211081547852,
          -0.19664085963825428,
          2.303236186087878,
          3.4949827066094117,
          2.4370652799535564,
          0.5579949043452181,
          -3.753091664581279,
          3.0962887479381256,
          -2.7537055367992154,
          -4.225372802562078,
          1.4219588727563248,
          -0.23472895514501482,
          -0.3555180656906316,
          4.301164491965932,
          3.5288163736907996,
          4.884831612496936,
          -3.8107586416063466,
          3.029364044336956,
          -3.663989191191506,
          -5.702204358262442,
          -3.432636502605874,
          -0.5172488646256745,
          -2.5779958006941572,
          2.81917313397681,
          2.3213474551966335,
          1.3190120171359798,
          -0.6439053397118139,
          -2.2671315122644704,
          0.18943549181231192,
          6.289659728044061,
          2.482543292114894,
          -3.138880154466596,
          3.5576223325631027,
          -4.8651767584964105,
          -3.169166894292871,
          -0.5129879631210716,
          -0.9262864922867623,
          1.8430652661195979,
          5.460022145447678
         ]
        }
       ],
       "layout": {
        "coloraxis": {
         "cmax": 10,
         "cmin": -30,
         "colorbar": {
          "title": {
           "text": "avg. change (%)"
          }
         },
         "colorscale": [
          [
           0,
           "rgb(161, 105, 40)"
          ],
          [
           0.16666666666666666,
           "rgb(189, 146, 90)"
          ],
          [
           0.3333333333333333,
           "rgb(214, 189, 141)"
          ],
          [
           0.5,
           "rgb(237, 234, 194)"
          ],
          [
           0.6666666666666666,
           "rgb(181, 200, 184)"
          ],
          [
           0.8333333333333334,
           "rgb(121, 167, 172)"
          ],
          [
           1,
           "rgb(40, 135, 161)"
          ]
         ]
        },
        "geo": {
         "center": {},
         "domain": {
          "x": [
           0,
           1
          ],
          "y": [
           0,
           1
          ]
         },
         "scope": "usa"
        },
        "height": 450,
        "legend": {
         "tracegroupgap": 0
        },
        "template": {
         "data": {
          "bar": [
           {
            "error_x": {
             "color": "#2a3f5f"
            },
            "error_y": {
             "color": "#2a3f5f"
            },
            "marker": {
             "line": {
              "color": "#E5ECF6",
              "width": 0.5
             },
             "pattern": {
              "fillmode": "overlay",
              "size": 10,
              "solidity": 0.2
             }
            },
            "type": "bar"
           }
          ],
          "barpolar": [
           {
            "marker": {
             "line": {
              "color": "#E5ECF6",
              "width": 0.5
             },
             "pattern": {
              "fillmode": "overlay",
              "size": 10,
              "solidity": 0.2
             }
            },
            "type": "barpolar"
           }
          ],
          "carpet": [
           {
            "aaxis": {
             "endlinecolor": "#2a3f5f",
             "gridcolor": "white",
             "linecolor": "white",
             "minorgridcolor": "white",
             "startlinecolor": "#2a3f5f"
            },
            "baxis": {
             "endlinecolor": "#2a3f5f",
             "gridcolor": "white",
             "linecolor": "white",
             "minorgridcolor": "white",
             "startlinecolor": "#2a3f5f"
            },
            "type": "carpet"
           }
          ],
          "choropleth": [
           {
            "colorbar": {
             "outlinewidth": 0,
             "ticks": ""
            },
            "type": "choropleth"
           }
          ],
          "contour": [
           {
            "colorbar": {
             "outlinewidth": 0,
             "ticks": ""
            },
            "colorscale": [
             [
              0,
              "#0d0887"
             ],
             [
              0.1111111111111111,
              "#46039f"
             ],
             [
              0.2222222222222222,
              "#7201a8"
             ],
             [
              0.3333333333333333,
              "#9c179e"
             ],
             [
              0.4444444444444444,
              "#bd3786"
             ],
             [
              0.5555555555555556,
              "#d8576b"
             ],
             [
              0.6666666666666666,
              "#ed7953"
             ],
             [
              0.7777777777777778,
              "#fb9f3a"
             ],
             [
              0.8888888888888888,
              "#fdca26"
             ],
             [
              1,
              "#f0f921"
             ]
            ],
            "type": "contour"
           }
          ],
          "contourcarpet": [
           {
            "colorbar": {
             "outlinewidth": 0,
             "ticks": ""
            },
            "type": "contourcarpet"
           }
          ],
          "heatmap": [
           {
            "colorbar": {
             "outlinewidth": 0,
             "ticks": ""
            },
            "colorscale": [
             [
              0,
              "#0d0887"
             ],
             [
              0.1111111111111111,
              "#46039f"
             ],
             [
              0.2222222222222222,
              "#7201a8"
             ],
             [
              0.3333333333333333,
              "#9c179e"
             ],
             [
              0.4444444444444444,
              "#bd3786"
             ],
             [
              0.5555555555555556,
              "#d8576b"
             ],
             [
              0.6666666666666666,
              "#ed7953"
             ],
             [
              0.7777777777777778,
              "#fb9f3a"
             ],
             [
              0.8888888888888888,
              "#fdca26"
             ],
             [
              1,
              "#f0f921"
             ]
            ],
            "type": "heatmap"
           }
          ],
          "heatmapgl": [
           {
            "colorbar": {
             "outlinewidth": 0,
             "ticks": ""
            },
            "colorscale": [
             [
              0,
              "#0d0887"
             ],
             [
              0.1111111111111111,
              "#46039f"
             ],
             [
              0.2222222222222222,
              "#7201a8"
             ],
             [
              0.3333333333333333,
              "#9c179e"
             ],
             [
              0.4444444444444444,
              "#bd3786"
             ],
             [
              0.5555555555555556,
              "#d8576b"
             ],
             [
              0.6666666666666666,
              "#ed7953"
             ],
             [
              0.7777777777777778,
              "#fb9f3a"
             ],
             [
              0.8888888888888888,
              "#fdca26"
             ],
             [
              1,
              "#f0f921"
             ]
            ],
            "type": "heatmapgl"
           }
          ],
          "histogram": [
           {
            "marker": {
             "pattern": {
              "fillmode": "overlay",
              "size": 10,
              "solidity": 0.2
             }
            },
            "type": "histogram"
           }
          ],
          "histogram2d": [
           {
            "colorbar": {
             "outlinewidth": 0,
             "ticks": ""
            },
            "colorscale": [
             [
              0,
              "#0d0887"
             ],
             [
              0.1111111111111111,
              "#46039f"
             ],
             [
              0.2222222222222222,
              "#7201a8"
             ],
             [
              0.3333333333333333,
              "#9c179e"
             ],
             [
              0.4444444444444444,
              "#bd3786"
             ],
             [
              0.5555555555555556,
              "#d8576b"
             ],
             [
              0.6666666666666666,
              "#ed7953"
             ],
             [
              0.7777777777777778,
              "#fb9f3a"
             ],
             [
              0.8888888888888888,
              "#fdca26"
             ],
             [
              1,
              "#f0f921"
             ]
            ],
            "type": "histogram2d"
           }
          ],
          "histogram2dcontour": [
           {
            "colorbar": {
             "outlinewidth": 0,
             "ticks": ""
            },
            "colorscale": [
             [
              0,
              "#0d0887"
             ],
             [
              0.1111111111111111,
              "#46039f"
             ],
             [
              0.2222222222222222,
              "#7201a8"
             ],
             [
              0.3333333333333333,
              "#9c179e"
             ],
             [
              0.4444444444444444,
              "#bd3786"
             ],
             [
              0.5555555555555556,
              "#d8576b"
             ],
             [
              0.6666666666666666,
              "#ed7953"
             ],
             [
              0.7777777777777778,
              "#fb9f3a"
             ],
             [
              0.8888888888888888,
              "#fdca26"
             ],
             [
              1,
              "#f0f921"
             ]
            ],
            "type": "histogram2dcontour"
           }
          ],
          "mesh3d": [
           {
            "colorbar": {
             "outlinewidth": 0,
             "ticks": ""
            },
            "type": "mesh3d"
           }
          ],
          "parcoords": [
           {
            "line": {
             "colorbar": {
              "outlinewidth": 0,
              "ticks": ""
             }
            },
            "type": "parcoords"
           }
          ],
          "pie": [
           {
            "automargin": true,
            "type": "pie"
           }
          ],
          "scatter": [
           {
            "fillpattern": {
             "fillmode": "overlay",
             "size": 10,
             "solidity": 0.2
            },
            "type": "scatter"
           }
          ],
          "scatter3d": [
           {
            "line": {
             "colorbar": {
              "outlinewidth": 0,
              "ticks": ""
             }
            },
            "marker": {
             "colorbar": {
              "outlinewidth": 0,
              "ticks": ""
             }
            },
            "type": "scatter3d"
           }
          ],
          "scattercarpet": [
           {
            "marker": {
             "colorbar": {
              "outlinewidth": 0,
              "ticks": ""
             }
            },
            "type": "scattercarpet"
           }
          ],
          "scattergeo": [
           {
            "marker": {
             "colorbar": {
              "outlinewidth": 0,
              "ticks": ""
             }
            },
            "type": "scattergeo"
           }
          ],
          "scattergl": [
           {
            "marker": {
             "colorbar": {
              "outlinewidth": 0,
              "ticks": ""
             }
            },
            "type": "scattergl"
           }
          ],
          "scattermapbox": [
           {
            "marker": {
             "colorbar": {
              "outlinewidth": 0,
              "ticks": ""
             }
            },
            "type": "scattermapbox"
           }
          ],
          "scatterpolar": [
           {
            "marker": {
             "colorbar": {
              "outlinewidth": 0,
              "ticks": ""
             }
            },
            "type": "scatterpolar"
           }
          ],
          "scatterpolargl": [
           {
            "marker": {
             "colorbar": {
              "outlinewidth": 0,
              "ticks": ""
             }
            },
            "type": "scatterpolargl"
           }
          ],
          "scatterternary": [
           {
            "marker": {
             "colorbar": {
              "outlinewidth": 0,
              "ticks": ""
             }
            },
            "type": "scatterternary"
           }
          ],
          "surface": [
           {
            "colorbar": {
             "outlinewidth": 0,
             "ticks": ""
            },
            "colorscale": [
             [
              0,
              "#0d0887"
             ],
             [
              0.1111111111111111,
              "#46039f"
             ],
             [
              0.2222222222222222,
              "#7201a8"
             ],
             [
              0.3333333333333333,
              "#9c179e"
             ],
             [
              0.4444444444444444,
              "#bd3786"
             ],
             [
              0.5555555555555556,
              "#d8576b"
             ],
             [
              0.6666666666666666,
              "#ed7953"
             ],
             [
              0.7777777777777778,
              "#fb9f3a"
             ],
             [
              0.8888888888888888,
              "#fdca26"
             ],
             [
              1,
              "#f0f921"
             ]
            ],
            "type": "surface"
           }
          ],
          "table": [
           {
            "cells": {
             "fill": {
              "color": "#EBF0F8"
             },
             "line": {
              "color": "white"
             }
            },
            "header": {
             "fill": {
              "color": "#C8D4E3"
             },
             "line": {
              "color": "white"
             }
            },
            "type": "table"
           }
          ]
         },
         "layout": {
          "annotationdefaults": {
           "arrowcolor": "#2a3f5f",
           "arrowhead": 0,
           "arrowwidth": 1
          },
          "autotypenumbers": "strict",
          "coloraxis": {
           "colorbar": {
            "outlinewidth": 0,
            "ticks": ""
           }
          },
          "colorscale": {
           "diverging": [
            [
             0,
             "#8e0152"
            ],
            [
             0.1,
             "#c51b7d"
            ],
            [
             0.2,
             "#de77ae"
            ],
            [
             0.3,
             "#f1b6da"
            ],
            [
             0.4,
             "#fde0ef"
            ],
            [
             0.5,
             "#f7f7f7"
            ],
            [
             0.6,
             "#e6f5d0"
            ],
            [
             0.7,
             "#b8e186"
            ],
            [
             0.8,
             "#7fbc41"
            ],
            [
             0.9,
             "#4d9221"
            ],
            [
             1,
             "#276419"
            ]
           ],
           "sequential": [
            [
             0,
             "#0d0887"
            ],
            [
             0.1111111111111111,
             "#46039f"
            ],
            [
             0.2222222222222222,
             "#7201a8"
            ],
            [
             0.3333333333333333,
             "#9c179e"
            ],
            [
             0.4444444444444444,
             "#bd3786"
            ],
            [
             0.5555555555555556,
             "#d8576b"
            ],
            [
             0.6666666666666666,
             "#ed7953"
            ],
            [
             0.7777777777777778,
             "#fb9f3a"
            ],
            [
             0.8888888888888888,
             "#fdca26"
            ],
            [
             1,
             "#f0f921"
            ]
           ],
           "sequentialminus": [
            [
             0,
             "#0d0887"
            ],
            [
             0.1111111111111111,
             "#46039f"
            ],
            [
             0.2222222222222222,
             "#7201a8"
            ],
            [
             0.3333333333333333,
             "#9c179e"
            ],
            [
             0.4444444444444444,
             "#bd3786"
            ],
            [
             0.5555555555555556,
             "#d8576b"
            ],
            [
             0.6666666666666666,
             "#ed7953"
            ],
            [
             0.7777777777777778,
             "#fb9f3a"
            ],
            [
             0.8888888888888888,
             "#fdca26"
            ],
            [
             1,
             "#f0f921"
            ]
           ]
          },
          "colorway": [
           "#636efa",
           "#EF553B",
           "#00cc96",
           "#ab63fa",
           "#FFA15A",
           "#19d3f3",
           "#FF6692",
           "#B6E880",
           "#FF97FF",
           "#FECB52"
          ],
          "font": {
           "color": "#2a3f5f"
          },
          "geo": {
           "bgcolor": "white",
           "lakecolor": "white",
           "landcolor": "#E5ECF6",
           "showlakes": true,
           "showland": true,
           "subunitcolor": "white"
          },
          "hoverlabel": {
           "align": "left"
          },
          "hovermode": "closest",
          "mapbox": {
           "style": "light"
          },
          "paper_bgcolor": "white",
          "plot_bgcolor": "#E5ECF6",
          "polar": {
           "angularaxis": {
            "gridcolor": "white",
            "linecolor": "white",
            "ticks": ""
           },
           "bgcolor": "#E5ECF6",
           "radialaxis": {
            "gridcolor": "white",
            "linecolor": "white",
            "ticks": ""
           }
          },
          "scene": {
           "xaxis": {
            "backgroundcolor": "#E5ECF6",
            "gridcolor": "white",
            "gridwidth": 2,
            "linecolor": "white",
            "showbackground": true,
            "ticks": "",
            "zerolinecolor": "white"
           },
           "yaxis": {
            "backgroundcolor": "#E5ECF6",
            "gridcolor": "white",
            "gridwidth": 2,
            "linecolor": "white",
            "showbackground": true,
            "ticks": "",
            "zerolinecolor": "white"
           },
           "zaxis": {
            "backgroundcolor": "#E5ECF6",
            "gridcolor": "white",
            "gridwidth": 2,
            "linecolor": "white",
            "showbackground": true,
            "ticks": "",
            "zerolinecolor": "white"
           }
          },
          "shapedefaults": {
           "line": {
            "color": "#2a3f5f"
           }
          },
          "ternary": {
           "aaxis": {
            "gridcolor": "white",
            "linecolor": "white",
            "ticks": ""
           },
           "baxis": {
            "gridcolor": "white",
            "linecolor": "white",
            "ticks": ""
           },
           "bgcolor": "#E5ECF6",
           "caxis": {
            "gridcolor": "white",
            "linecolor": "white",
            "ticks": ""
           }
          },
          "title": {
           "x": 0.05
          },
          "xaxis": {
           "automargin": true,
           "gridcolor": "white",
           "linecolor": "white",
           "ticks": "",
           "title": {
            "standoff": 15
           },
           "zerolinecolor": "white",
           "zerolinewidth": 2
          },
          "yaxis": {
           "automargin": true,
           "gridcolor": "white",
           "linecolor": "white",
           "ticks": "",
           "title": {
            "standoff": 15
           },
           "zerolinecolor": "white",
           "zerolinewidth": 2
          }
         }
        },
        "title": {
         "text": "Mobility Change in the United States, across states"
        },
        "width": 630
       }
      }
     },
     "metadata": {},
     "output_type": "display_data"
    }
   ],
   "source": [
    "ave_mobil_by_state = result_frame.groupby(['state']).mean()\n",
    "ave_mobil_by_state.reset_index(level = [\"state\"], inplace = True)\n",
    "\n",
    "# read state codes to create chloropleth\n",
    "state_codes_df = pd.read_csv('https://raw.githubusercontent.com/jackparmer/iso-3166-state-codes/master/codes.csv')\n",
    "# state_codes_df.to_csv(\"data/state_codes.csv\")\n",
    "state_codes_df['state'] = [state_code.strip() for state_code in state_codes_df['state']]\n",
    "\n",
    "# create map\n",
    "fig = px.choropleth(ave_mobil_by_state,\n",
    "                    locations = [state_codes_df.loc[state_codes_df['state'].eq(state).idxmax(), \"code\"]\n",
    "                                for state in ave_mobil_by_state.state], \n",
    "                    locationmode=\"USA-states\", \n",
    "                    color='mean',\n",
    "                    color_continuous_scale=\"Earth\",\n",
    "                    # color_continuous_midpoint = 0,\n",
    "                    range_color = [-30, 10],\n",
    "                    scope=\"usa\",\n",
    "                    labels={'locations':'state','mean':'avg. change (%)'},\n",
    "                    title = \"Mobility Change in the United States, across states\",\n",
    "                    width = 630,\n",
    "                    height = 450)\n",
    "fig.show()"
   ]
  },
  {
   "cell_type": "markdown",
   "metadata": {},
   "source": [
    "![chloropleth map](chloropleth_example.png)"
   ]
  },
  {
   "cell_type": "markdown",
   "metadata": {},
   "source": [
    "The chloropleth map is really beautiful, with nice colors, but in static (meaning, non-interactive/unchanging) versions, chloropleth maps aren't necessarily the best way to understand the distinctions between states - we aren't actually visualizing their exact differences, since we can't see the values unless we interact with this plot. Therefore, we can make another pointplot to visualize the differences in percent mobility change by state:"
   ]
  },
  {
   "cell_type": "code",
   "execution_count": 15,
   "metadata": {},
   "outputs": [
    {
     "data": {
      "text/plain": [
       "[Text(0.5, 1.0, 'Mobility Change in the United States\\nacross states, pre-pandemic baseline at 0'),\n",
       " Text(0.5, 0, 'average mobility change from pre-pandemic baseline')]"
      ]
     },
     "execution_count": 15,
     "metadata": {},
     "output_type": "execute_result"
    },
    {
     "data": {
      "image/png": "[encoded data removed]",
      "text/plain": [
       "<Figure size 360x720 with 1 Axes>"
      ]
     },
     "metadata": {},
     "output_type": "display_data"
    }
   ],
   "source": [
    "ave_mobil_by_state.sort_values(by = \"mean\", ascending = False, inplace = True)\n",
    "\n",
    "sns.set_theme(style=\"white\")\n",
    "sns.set_palette('pastel')\n",
    "\n",
    "# create plot\n",
    "# set figure size and set padding around subplots to \"tight\" \n",
    "# (to make sure labs are included)\n",
    "plt.figure(figsize=[5, 10])\n",
    "plt.tight_layout()\n",
    "\n",
    "# add vertical line at 0 (baseline)\n",
    "plt.axvline(x = 0, color = \"orange\")\n",
    "\n",
    "# add place errorbars\n",
    "ax = sns.pointplot(y = \"state\", \n",
    "                x= \"mean\", \n",
    "                orient = \"h\",\n",
    "                data = ave_mobil_by_state,\n",
    "                join = False,\n",
    "                markers = \"|\")\n",
    "\n",
    "# set axis labels\n",
    "ax.set(title = \"Mobility Change in the United States\\nacross states, pre-pandemic baseline at 0\",\n",
    "        xlabel = \"average mobility change from pre-pandemic baseline\")"
   ]
  },
  {
   "cell_type": "markdown",
   "metadata": {},
   "source": [
    "Which of these two plots that display mobility change by state would you use? Why? Could there be benefit to using each of them in different scenarios?"
   ]
  }
 ],
 "metadata": {
  "kernelspec": {
   "display_name": "Python 3 (ipykernel)",
   "language": "python",
   "name": "python3"
  },
  "language_info": {
   "codemirror_mode": {
    "name": "ipython",
    "version": 3
   },
   "file_extension": ".py",
   "mimetype": "text/x-python",
   "name": "python",
   "nbconvert_exporter": "python",
   "pygments_lexer": "ipython3",
   "version": "3.8.8"
  },
  "vscode": {
   "interpreter": {
    "hash": "246c1bece8e5369dd112a4e8708619c64ca3c3105f3641bcd0bf3e1e56652a16"
   }
  }
 },
 "nbformat": 4,
 "nbformat_minor": 2
}
