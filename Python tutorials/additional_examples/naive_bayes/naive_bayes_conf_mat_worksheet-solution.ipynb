{
 "cells": [
  {
   "cell_type": "markdown",
   "id": "bd39476f",
   "metadata": {},
   "source": [
    "# Naïve Bayes and Confusion Matrices"
   ]
  },
  {
   "cell_type": "code",
   "execution_count": 3,
   "id": "1aa1c026",
   "metadata": {},
   "outputs": [],
   "source": [
    "'''\n",
    "Name:\n",
    "ISTA 331\n",
    "Date:\n",
    "Collaborator(s):\n",
    "'''\n",
    "import pandas as pd"
   ]
  },
  {
   "cell_type": "markdown",
   "id": "5eeb2802",
   "metadata": {},
   "source": [
    "Let's do a simple naive Bayes calculation. Consider the following data matrix. The target variable $y$ means that approving a loan was a good decision if $y = 1$.\n",
    "\n",
    "| Index | age | income | gender  |**y** |\n",
    "|---|---|---|---|---|\n",
    "0 | >= 40 | > 75 | M | 1 |\n",
    "1 | < 40 | 50-75 | F | 1 |\n",
    "2 | < 40 | < 50 | M | 0 |\n",
    "3 | >= 40 | 50-75 | F | 1 |\n",
    "4 | >= 40 | 50-75 | M | 1 |\n",
    "5 | < 40 | < 50 | F | 0 |\n",
    "6 | >= 40 | 50-75 | M | 0 |\n",
    "7 | < 40 | 50-75 | F | 1 |\n",
    "8 | >= 40 | 50-75 | M | 0 |\n",
    "9 | < 40 | > 75 | F | 1 |\n",
    "\n",
    "We have three new applications, described in the following table:\n",
    "\n",
    "| age | income | gender |\n",
    "|---|---|---|\n",
    "| >= 40 | 50-75 | M |\n",
    "| >= 40 | 50-75 | F |\n",
    "| < 40 | 50-75 | M |\n",
    "\n",
    "Based on Naive Bayes, should we approve their loan applications? Let's break this down into steps."
   ]
  },
  {
   "cell_type": "code",
   "execution_count": 4,
   "id": "261ca275",
   "metadata": {},
   "outputs": [
    {
     "data": {
      "text/html": [
       "<div>\n",
       "<style scoped>\n",
       "    .dataframe tbody tr th:only-of-type {\n",
       "        vertical-align: middle;\n",
       "    }\n",
       "\n",
       "    .dataframe tbody tr th {\n",
       "        vertical-align: top;\n",
       "    }\n",
       "\n",
       "    .dataframe thead th {\n",
       "        text-align: right;\n",
       "    }\n",
       "</style>\n",
       "<table border=\"1\" class=\"dataframe\">\n",
       "  <thead>\n",
       "    <tr style=\"text-align: right;\">\n",
       "      <th></th>\n",
       "      <th>age</th>\n",
       "      <th>income</th>\n",
       "      <th>gender</th>\n",
       "      <th>y</th>\n",
       "    </tr>\n",
       "  </thead>\n",
       "  <tbody>\n",
       "    <tr>\n",
       "      <th>0</th>\n",
       "      <td>&gt;= 40</td>\n",
       "      <td>&gt; 75</td>\n",
       "      <td>M</td>\n",
       "      <td>1</td>\n",
       "    </tr>\n",
       "    <tr>\n",
       "      <th>1</th>\n",
       "      <td>&lt; 40</td>\n",
       "      <td>50-75</td>\n",
       "      <td>F</td>\n",
       "      <td>1</td>\n",
       "    </tr>\n",
       "    <tr>\n",
       "      <th>2</th>\n",
       "      <td>&lt; 40</td>\n",
       "      <td>&lt; 50</td>\n",
       "      <td>M</td>\n",
       "      <td>0</td>\n",
       "    </tr>\n",
       "    <tr>\n",
       "      <th>3</th>\n",
       "      <td>&gt;= 40</td>\n",
       "      <td>50-75</td>\n",
       "      <td>F</td>\n",
       "      <td>1</td>\n",
       "    </tr>\n",
       "    <tr>\n",
       "      <th>4</th>\n",
       "      <td>&gt;= 40</td>\n",
       "      <td>50-75</td>\n",
       "      <td>M</td>\n",
       "      <td>1</td>\n",
       "    </tr>\n",
       "    <tr>\n",
       "      <th>5</th>\n",
       "      <td>&lt; 40</td>\n",
       "      <td>&lt; 50</td>\n",
       "      <td>F</td>\n",
       "      <td>0</td>\n",
       "    </tr>\n",
       "    <tr>\n",
       "      <th>6</th>\n",
       "      <td>&gt;= 40</td>\n",
       "      <td>50-75</td>\n",
       "      <td>M</td>\n",
       "      <td>0</td>\n",
       "    </tr>\n",
       "    <tr>\n",
       "      <th>7</th>\n",
       "      <td>&lt; 40</td>\n",
       "      <td>50-75</td>\n",
       "      <td>F</td>\n",
       "      <td>1</td>\n",
       "    </tr>\n",
       "    <tr>\n",
       "      <th>8</th>\n",
       "      <td>&gt;= 40</td>\n",
       "      <td>50-75</td>\n",
       "      <td>M</td>\n",
       "      <td>0</td>\n",
       "    </tr>\n",
       "    <tr>\n",
       "      <th>9</th>\n",
       "      <td>&lt; 40</td>\n",
       "      <td>&gt; 75</td>\n",
       "      <td>F</td>\n",
       "      <td>1</td>\n",
       "    </tr>\n",
       "  </tbody>\n",
       "</table>\n",
       "</div>"
      ],
      "text/plain": [
       "     age income gender  y\n",
       "0  >= 40   > 75      M  1\n",
       "1   < 40  50-75      F  1\n",
       "2   < 40   < 50      M  0\n",
       "3  >= 40  50-75      F  1\n",
       "4  >= 40  50-75      M  1\n",
       "5   < 40   < 50      F  0\n",
       "6  >= 40  50-75      M  0\n",
       "7   < 40  50-75      F  1\n",
       "8  >= 40  50-75      M  0\n",
       "9   < 40   > 75      F  1"
      ]
     },
     "execution_count": 4,
     "metadata": {},
     "output_type": "execute_result"
    }
   ],
   "source": [
    "ages = ['>= 40', '< 40', '< 40', '>= 40', '>= 40', '< 40', '>= 40', '< 40', '>= 40', '< 40']\n",
    "incomes = ['> 75', '50-75', '< 50','50-75','50-75', '< 50', '50-75', '50-75', '50-75', '> 75']\n",
    "genders = ['M', 'F', 'M', 'F', 'M', 'F', 'M', 'F', 'M', 'F']\n",
    "outcomes = [1,1,0,1,1,0,0,1,0,1]\n",
    "df = pd.DataFrame({'age': ages, 'income':incomes, 'gender':genders, 'y':outcomes})\n",
    "df"
   ]
  },
  {
   "cell_type": "markdown",
   "id": "4cded758",
   "metadata": {},
   "source": [
    "1. Write a function called `get_single_likelihood` which implements the calculation of $P(X_i = x | Y = y)$. Given a feature name, a value of that feature, an outcome value (either 0 or 1), and a data frame, calculate the probability that, given that outcome, the named feature will equal the given value.\n",
    "\n",
    "    Example: the call `get_single_likelihood('gender', 'F', 1, df)` should return the probability that, among applicants for whom `y == 1`, their `gender` attribute is `F`."
   ]
  },
  {
   "cell_type": "code",
   "execution_count": 7,
   "id": "e431ad41",
   "metadata": {},
   "outputs": [],
   "source": [
    "def get_single_likelihood(feature_name, value, outcome, df):\n",
    "    freq_x_and_y = len(df[(df[feature_name] == value) & (df['y'] == outcome)])\n",
    "    freq_y = len(df[df['y'] == outcome])\n",
    "    return freq_x_and_y / freq_y"
   ]
  },
  {
   "cell_type": "markdown",
   "id": "1cc7acb4",
   "metadata": {},
   "source": [
    "2. Write a function called `get_joint_likelihood` which implements the calculation of $P(X_0 = x_0, X_1 = x_1, \\ldots | Y = y)$. Given a `Series` representing a feature vector, an outcome value (0 or 1), and a data frame, calculate the probability that, given that outcome, all features will equal the values in the feature vector. (Hint: loop over `features.index`, which contains the feature names, and call `get_single_likelihood`. Multiply together the values you get and return the product.)"
   ]
  },
  {
   "cell_type": "code",
   "execution_count": 8,
   "id": "da70a1bb",
   "metadata": {},
   "outputs": [],
   "source": [
    "def get_joint_likelihood(features, outcome, df):\n",
    "    joint_likelihood = 1\n",
    "    for feature in features.index:\n",
    "        joint_likelihood *= get_single_likelihood(feature, features.loc[feature], outcome, df)\n",
    "    return joint_likelihood"
   ]
  },
  {
   "cell_type": "markdown",
   "id": "685678b9",
   "metadata": {},
   "source": [
    "3. Write a function called `get_prior` which calculates $P(Y = y)$. That is, given an outcome value (0 or 1) and a data frame, `get_prior(outcome, df)` return the estimated probability in that data frame that `y == outcome`."
   ]
  },
  {
   "cell_type": "code",
   "execution_count": 13,
   "id": "1199e8e7",
   "metadata": {},
   "outputs": [],
   "source": [
    "def get_prior(outcome, df):\n",
    "    return len(df[df['y'] == outcome]) / len(df)"
   ]
  },
  {
   "cell_type": "markdown",
   "id": "9ca786b2",
   "metadata": {},
   "source": [
    "4. Finally, put all the pieces of Bayes' theorem together. Write a function called `get_prob` that takes a new feature vector (in the form of a `Series`) and returns the estimated probability\n",
    "\n",
    "$$ P(y = 1 | \\pmb X = \\pmb x) $$\n",
    "\n",
    "where the vector equation $\\pmb X = \\pmb x$ stands for $X_0 = x_0, X_1 = x_1, \\ldots$. Remember this is calculated by Bayes' theorem as\n",
    "\n",
    "$$ P(y = 1 | \\pmb X = \\pmb x) = \\frac{P(\\pmb X = \\pmb x | y = 1) P(y = 1)}{ P(\\pmb X = \\pmb x | y = 1) P(y = 1) + P(\\pmb X = \\pmb x | y = 0) P(y = 0) } $$\n",
    "\n",
    "and everything on the right-hand side can be calculated by either `get_prior` or `get_joint_likelihood`."
   ]
  },
  {
   "cell_type": "code",
   "execution_count": 14,
   "id": "bba041be",
   "metadata": {},
   "outputs": [],
   "source": [
    "def get_prob(features, df):\n",
    "    likelihood_y1 = get_joint_likelihood(features, 1, df)\n",
    "    prior_y1 = get_prior(1, df)\n",
    "    likelihood_y0 = get_joint_likelihood(features, 0, df)\n",
    "    prior_y0 = get_prior(0, df)\n",
    "    return likelihood_y1 * prior_y1 / (likelihood_y1 * prior_y1 + likelihood_y0 * prior_y0)"
   ]
  },
  {
   "cell_type": "code",
   "execution_count": 15,
   "id": "a668bd12",
   "metadata": {},
   "outputs": [
    {
     "data": {
      "text/plain": [
       "0.8421052631578948"
      ]
     },
     "execution_count": 15,
     "metadata": {},
     "output_type": "execute_result"
    }
   ],
   "source": [
    "applications = pd.DataFrame({'age':['>= 40', '>= 40', '< 40'], 'income': ['50-75', '50-75', '50-75'], 'gender': ['M', 'F', 'M']})\n",
    "get_prob(applications.iloc[1], df)"
   ]
  },
  {
   "cell_type": "markdown",
   "id": "e091bb10",
   "metadata": {},
   "source": [
    "6. In the U.S., prevalence of HIV (according to the web) is **0.0033 cases per capita**. Statistics about accuracy of HIV tests for cases outside the 3-month window after initial infection seem to all be from companies selling the tests (and are therefore immediately suspect, in my mind). Here is a typical number: assume an HIV test is **99.68% accurate (and assume the same accuracy for both positive and negative cases)**. Construct a confusion matrix with the numbers you would expect for **100000** people who received this test given the above statistics. Call cases of infection positive, healthy negative."
   ]
  },
  {
   "cell_type": "code",
   "execution_count": null,
   "id": "c3c5b3db",
   "metadata": {},
   "outputs": [],
   "source": []
  },
  {
   "cell_type": "markdown",
   "id": "8501d2fc",
   "metadata": {},
   "source": [
    "Use this matrix to estimate the probability that a person who receives a positive test actually has HIV.  "
   ]
  },
  {
   "cell_type": "code",
   "execution_count": null,
   "id": "433c4613",
   "metadata": {},
   "outputs": [],
   "source": []
  },
  {
   "cell_type": "markdown",
   "id": "de8ea414",
   "metadata": {},
   "source": [
    "Estimate the probability that a person who has HIV receives a negative test."
   ]
  },
  {
   "cell_type": "code",
   "execution_count": null,
   "id": "ce859521",
   "metadata": {},
   "outputs": [],
   "source": []
  }
 ],
 "metadata": {
  "kernelspec": {
   "display_name": "Python 3.8.8 64-bit ('base': conda)",
   "language": "python",
   "name": "python388jvsc74a57bd0246c1bece8e5369dd112a4e8708619c64ca3c3105f3641bcd0bf3e1e56652a16"
  },
  "language_info": {
   "codemirror_mode": {
    "name": "ipython",
    "version": 3
   },
   "file_extension": ".py",
   "mimetype": "text/x-python",
   "name": "python",
   "nbconvert_exporter": "python",
   "pygments_lexer": "ipython3",
   "version": "3.8.8"
  }
 },
 "nbformat": 4,
 "nbformat_minor": 5
}
