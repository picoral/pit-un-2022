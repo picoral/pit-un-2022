{
 "cells": [
  {
   "cell_type": "markdown",
   "id": "1296ea47",
   "metadata": {},
   "source": [
    "  ## Data Wrangling with Python"
   ]
  },
  {
   "cell_type": "markdown",
   "id": "2a207a2c",
   "metadata": {},
   "source": [
    "Import needed packages (Pandas and OS). If you do not have pandas installed (i.e., you're working with base python; if you have anaconda, you'll be fine) install using `pip install pandas` at the command line. Here is a link to [`pandas` documentation](https://pandas.pydata.org/docs/)"
   ]
  },
  {
   "cell_type": "code",
   "execution_count": null,
   "id": "2b9a8552",
   "metadata": {},
   "outputs": [],
   "source": [
    "import pandas as pd, os, numpy as np, seaborn as sns"
   ]
  },
  {
   "cell_type": "markdown",
   "id": "b5703ef3",
   "metadata": {},
   "source": [
    "Download data (see link from [R tutorial](tidying-data.html), but here it is again): [race/ethnicity according to the 2010 census](https://www.prisonpolicy.org/data/race_ethnicity_gender_2010.xlsx)"
   ]
  },
  {
   "cell_type": "markdown",
   "id": "0d61af73",
   "metadata": {},
   "source": [
    "Use Python's `os` module to list contents of data directory to verify that you have the data (and you know where it is)"
   ]
  },
  {
   "cell_type": "code",
   "execution_count": null,
   "id": "4e6f2474",
   "metadata": {},
   "outputs": [],
   "source": [
    "os.listdir(\"data\")"
   ]
  },
  {
   "cell_type": "markdown",
   "id": "46272d25",
   "metadata": {},
   "source": [
    "Use Pandas [`read_excel`](https://pandas.pydata.org/docs/reference/api/pandas.read_excel.html) method to read Excel sheet into Pandas DataFrame"
   ]
  },
  {
   "cell_type": "code",
   "execution_count": null,
   "id": "a25a8068",
   "metadata": {},
   "outputs": [],
   "source": [
    "incarceration_data_2010 = pd.read_excel(\"data/race_ethnicity_gender_2010.xlsx\",\n",
    "                                      sheet_name = \"Total\",\n",
    "                                      skiprows = range(4))\n",
    "incarceration_data_2010.head()"
   ]
  },
  {
   "cell_type": "markdown",
   "id": "1c5d6513",
   "metadata": {},
   "source": [
    "Select row where `Geography == Arizona` and list column names"
   ]
  },
  {
   "cell_type": "code",
   "execution_count": null,
   "id": "6272ae06",
   "metadata": {},
   "outputs": [],
   "source": [
    "az_data = incarceration_data_2010[incarceration_data_2010['Geography'] == 'Arizona'].copy()\n",
    "az_data.columns"
   ]
  },
  {
   "cell_type": "markdown",
   "id": "cac122ed",
   "metadata": {},
   "source": [
    "We want only the columns that start with \"Incarceration Rate\", plus the `Geography` column"
   ]
  },
  {
   "cell_type": "code",
   "execution_count": null,
   "id": "f3714b1a",
   "metadata": {},
   "outputs": [],
   "source": [
    "az_incarceration_rate = az_data[['Geography'] + \n",
    "                                [col_name for col_name in az_data.columns if \"Incarceration rate\" in col_name]].copy()\n",
    "az_incarceration_rate"
   ]
  },
  {
   "cell_type": "markdown",
   "id": "c9fdd06c",
   "metadata": {},
   "source": [
    "Create \"tidied\" dataframe that contains columns for geography, race/ethnicity, and incarceration rate. For an elegant solution that is similar to the solution in R, use [Pandas.DataFrame.melt](https://pandas.pydata.org/pandas-docs/version/1.0.0/reference/api/pandas.DataFrame.melt.html):"
   ]
  },
  {
   "cell_type": "code",
   "execution_count": null,
   "id": "800535cd",
   "metadata": {},
   "outputs": [],
   "source": [
    "# update column names\n",
    "az_incarceration_rate.columns = [\"geography\", \"Population at large\"] + [value.replace(\"Incarceration rate: \", \"\") \n",
    "                                      for value in az_incarceration_rate.columns[2:]]\n",
    "# use melt to create reshaped dataframe\n",
    "az_incarc_rate_tidy = az_incarceration_rate.melt(id_vars = ['geography'], # columns that should not change\n",
    "                           var_name = \"race_ethnicity\", # name of column that will contain old col/var names\n",
    "                           value_name = \"incarceration_rate\") # name of column that will contain values\n",
    "az_incarc_rate_tidy"
   ]
  },
  {
   "cell_type": "markdown",
   "id": "d59b7f1a",
   "metadata": {},
   "source": [
    "Alternatively, you can implement it yourself:"
   ]
  },
  {
   "cell_type": "code",
   "execution_count": null,
   "id": "46264c39",
   "metadata": {},
   "outputs": [],
   "source": [
    "incarceration_rate = az_incarceration_rate.iloc[0, 1:].copy()\n",
    "geo = np.full(len(incarceration_rate), az_data.Geography.values.copy()) \n",
    "race_ethnicity = ['Population at large'] + [col_name.replace('Incarceration rate: ', '') for col_name in az_incarceration_rate.columns[2:]]\n",
    "az_incarceration_rate_tidy = pd.DataFrame(np.column_stack((geo, race_ethnicity, incarceration_rate)), columns = ['geography', 'race_ethnicity', 'incarceration_rate'])\n",
    "az_incarceration_rate_tidy"
   ]
  },
  {
   "cell_type": "markdown",
   "id": "f463082d",
   "metadata": {},
   "source": [
    "If we want, we can change type of `incarceration_rate` column data to float! You will actually be able to interact with these values without changing the type because the default type in Python is `object`, but including this to be consistent with the R tutorial and demonstrate how you might do this (if you needed to) in Python:"
   ]
  },
  {
   "cell_type": "code",
   "execution_count": null,
   "id": "c14a4040",
   "metadata": {},
   "outputs": [],
   "source": [
    "az_incarc_rate_tidy.incarceration_rate = az_incarc_rate_tidy.incarceration_rate.astype(float)"
   ]
  },
  {
   "cell_type": "markdown",
   "id": "9506d9a5",
   "metadata": {},
   "source": [
    "Sort values in descending order by `incarceration_rate`"
   ]
  },
  {
   "cell_type": "code",
   "execution_count": null,
   "id": "5d00a449",
   "metadata": {},
   "outputs": [],
   "source": [
    "az_incarc_rate_tidy.sort_values(\"incarceration_rate\", ascending = False, inplace = True)"
   ]
  },
  {
   "cell_type": "markdown",
   "id": "579cfe9c",
   "metadata": {},
   "source": [
    "Use [seaborn](https://seaborn.pydata.org/examples/part_whole_bars.html) to plot data."
   ]
  },
  {
   "cell_type": "code",
   "execution_count": null,
   "id": "84e415b1",
   "metadata": {},
   "outputs": [],
   "source": [
    "sns.set_color_codes(\"pastel\")\n",
    "ax = sns.barplot(x=\"incarceration_rate\", y=\"race_ethnicity\", data=az_incarc_rate_tidy, color=\"b\")\n",
    "ax.set(xlabel = \"incarceration rate per 100k \", \n",
    "       ylabel = \"\", \n",
    "       title = \"Incarceration rates per 100k people in Arizona\")"
   ]
  },
  {
   "cell_type": "markdown",
   "id": "132032de",
   "metadata": {},
   "source": [
    "Write tidy data to csv file"
   ]
  },
  {
   "cell_type": "code",
   "execution_count": null,
   "id": "ecaff562",
   "metadata": {},
   "outputs": [],
   "source": [
    "az_incarc_rate_tidy.to_csv('data/az_incarceration_rates_2010.csv', sep = \";\", index = False)"
   ]
  }
 ],
 "metadata": {
  "kernelspec": {
   "display_name": "Python 3 (ipykernel)",
   "language": "python",
   "name": "python3"
  },
  "language_info": {
   "codemirror_mode": {
    "name": "ipython",
    "version": 3
   },
   "file_extension": ".py",
   "mimetype": "text/x-python",
   "name": "python",
   "nbconvert_exporter": "python",
   "pygments_lexer": "ipython3",
   "version": "3.8.8"
  }
 },
 "nbformat": 4,
 "nbformat_minor": 5
}
